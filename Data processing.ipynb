{
 "cells": [
  {
   "cell_type": "markdown",
   "metadata": {},
   "source": [
    "# Data processing\n",
    "\n",
    "## Contents <a id=ov>\n",
    "1. [Saving and Loading Data](#save)\n",
    "2. [Numpy](#np)\n",
    "3. [Saving and loading data into Pandas dataframe](#save_pandas)\n",
    "4. [Investigate your Pandas dataframe](#Investigate)\n",
    "5. [Pandas Series Object ](#series)\n",
    "6. [Indexing and filtering](#filter)\n",
    "7. [Plotting](#plt)\n",
    "8. [Statsmodels](#sm)\n",
    "\n",
    "\n"
   ]
  },
  {
   "cell_type": "markdown",
   "metadata": {},
   "source": [
    "## Saving and Loading Data <a id=save>\n",
    "### Pickle\n",
    "You can save or load every Python object via pickle:"
   ]
  },
  {
   "cell_type": "code",
   "execution_count": 1,
   "metadata": {},
   "outputs": [
    {
     "name": "stdout",
     "output_type": "stream",
     "text": [
      "football_players.p saved!\n"
     ]
    }
   ],
   "source": [
    "import pickle\n",
    "\n",
    "football_players={'Neymar':['PSG',29,100],\n",
    "                  'Haaland':['BVB',21,150],\n",
    "                  'Lukaku':['Chelsea',28,100],\n",
    "                  'Messi':['PSG',34,80],\n",
    "                  'Goretzka':['Bayern',26,70],\n",
    "                  'Salah':['Liverpool',29,100],\n",
    "                  'Kane':['Tottenham',28,120],\n",
    "                  'Folden':['ManU',21,80]}\n",
    "#saving\n",
    "pickle.dump(football_players,open('football_players.p','wb'))\n",
    "print('football_players.p','saved!')"
   ]
  },
  {
   "cell_type": "code",
   "execution_count": 2,
   "metadata": {},
   "outputs": [
    {
     "name": "stdout",
     "output_type": "stream",
     "text": [
      "{'Neymar': ['PSG', 29, 100], 'Haaland': ['BVB', 21, 150], 'Lukaku': ['Chelsea', 28, 100], 'Messi': ['PSG', 34, 80], 'Goretzka': ['Bayern', 26, 70], 'Salah': ['Liverpool', 29, 100], 'Kane': ['Tottenham', 28, 120], 'Folden': ['ManU', 21, 80]}\n"
     ]
    }
   ],
   "source": [
    "#load\n",
    "football_players=pickle.load(open('football_players.p','rb'))\n",
    "print(football_players)"
   ]
  },
  
  {
   "cell_type": "markdown",
   "metadata": {},
   "source": [
    "### JSON files\n",
    "The best way to save datasets with consist of dictionaries, list, strings and numericals  is ***JSON***, because it is readable for humans and other programming languages:\n"
   ]
  },
  {
   "cell_type": "code",
   "execution_count": 11,
   "metadata": {},
   "outputs": [
    {
     "name": "stdout",
     "output_type": "stream",
     "text": [
      "{'Neymar': ['PSG', 29, 100], 'Haaland': ['BVB', 21, 150], 'Lukaku': ['Chelsea', 28, 100], 'Messi': ['PSG', 34, 80], 'Goretzka': ['Bayern', 26, 70], 'Salah': ['Liverpool', 29, 100], 'Kane': ['Tottenham', 28, 120], 'Folden': ['ManU', 21, 80]}\n"
     ]
    }
   ],
   "source": [
    "import json\n",
    "#save\n",
    "with open('football_players.json','w') as file:\n",
    "    json.dump(football_players,file)\n",
    "\n",
    "#load\n",
    "with open('football_players.json') as json_object:\n",
    "    python_object=json.load(json_object)\n",
    "\n",
    "print(python_object)"
   ]
  },
  {
   "cell_type": "markdown",
   "metadata": {},
   "source": [
    "### XML files\n",
    "XML files can be parse with Beautifulsoup. For large files, however, treating the file als text using ``open()`` and searching for keys with string methods can be more efficient."
   ]
  },
  {
   "cell_type": "markdown",
   "metadata": {},
   "source": [
    "## Numpy <a id=np>\n",
    "[Back to Content Overview](#ov)\n",
    "\n",
    "Numpy is the Python library for vector/matrix operations. Most of the import packages in data science and machine learning."
   ]
  },
  {
   "cell_type": "code",
   "execution_count": 59,
   "metadata": {},
   "outputs": [],
   "source": [
    "import numpy as np"
   ]
  },
  {
   "cell_type": "markdown",
   "metadata": {},
   "source": [
    "### Basics\n",
    "You can define a vector/matrix in the following way:"
   ]
  },
  {
   "cell_type": "code",
   "execution_count": 13,
   "metadata": {},
   "outputs": [
    {
     "name": "stdout",
     "output_type": "stream",
     "text": [
      "<class 'numpy.ndarray'>\n",
      "[[1 4 5]\n",
      " [7 3 6]]\n"
     ]
    }
   ],
   "source": [
    "test_vector=np.array([[1,4,5],[7,3,6]])\n",
    "print(type(test_vector))\n",
    "print(test_vector)"
   ]
  },
  {
   "cell_type": "code",
   "execution_count": 14,
   "metadata": {},
   "outputs": [
    {
     "name": "stdout",
     "output_type": "stream",
     "text": [
      "(2, 3)\n"
     ]
    }
   ],
   "source": [
    "# Get the dimensions of the array:\n",
    "print(np.shape(test_vector))"
   ]
  },
  {
   "cell_type": "code",
   "execution_count": 15,
   "metadata": {},
   "outputs": [
    {
     "name": "stdout",
     "output_type": "stream",
     "text": [
      "[[1 7]\n",
      " [4 3]\n",
      " [5 6]]\n",
      "[[1 7]\n",
      " [4 3]\n",
      " [5 6]]\n"
     ]
    }
   ],
   "source": [
    "# Transpose the array:\n",
    "print(test_vector.transpose())\n",
    "print(test_vector.T)"
   ]
  },
  {
   "cell_type": "code",
   "execution_count": 16,
   "metadata": {},
   "outputs": [
    {
     "name": "stdout",
     "output_type": "stream",
     "text": [
      "[[0 1 2 3 4]\n",
      " [5 6 7 8 9]]\n"
     ]
    }
   ],
   "source": [
    "# Change the shape of the array\n",
    "print(np.array(range(0,10)).reshape((2,5)))"
   ]
  },
  {
   "cell_type": "markdown",
   "metadata": {},
   "source": [
    "#### Special Arrays:"
   ]
  },
  {
   "cell_type": "code",
   "execution_count": 17,
   "metadata": {},
   "outputs": [
    {
     "name": "stdout",
     "output_type": "stream",
     "text": [
      "[[0. 0. 0.]\n",
      " [0. 0. 0.]]\n"
     ]
    }
   ],
   "source": [
    "# Array with zeros:\n",
    "print(np.zeros((2,3)))"
   ]
  },
  {
   "cell_type": "code",
   "execution_count": 18,
   "metadata": {},
   "outputs": [
    {
     "name": "stdout",
     "output_type": "stream",
     "text": [
      "[[1. 1. 1.]\n",
      " [1. 1. 1.]]\n"
     ]
    }
   ],
   "source": [
    "# Array with ones:\n",
    "print(np.ones((2,3)))"
   ]
  },
  {
   "cell_type": "code",
   "execution_count": 19,
   "metadata": {},
   "outputs": [
    {
     "name": "stdout",
     "output_type": "stream",
     "text": [
      "[0 1 2 3 4 5 6 7 8 9]\n",
      "[0 1 2 3 4 5 6 7 8 9]\n"
     ]
    }
   ],
   "source": [
    "# Array with range of numbers:\n",
    "print(np.arange(10))\n",
    "print(np.array(range(10))) # Similar"
   ]
  },
  {
   "cell_type": "code",
   "execution_count": 20,
   "metadata": {},
   "outputs": [
    {
     "name": "stdout",
     "output_type": "stream",
     "text": [
      "[0.   0.25 0.5  0.75 1.  ]\n"
     ]
    }
   ],
   "source": [
    "# Array with equally distributed numbers in a interval\n",
    "print(np.linspace(0, 1, 5))"
   ]
  },
  {
   "cell_type": "markdown",
   "metadata": {},
   "source": [
    "#### Random:"
   ]
  },
  {
   "cell_type": "code",
   "execution_count": 21,
   "metadata": {},
   "outputs": [
    {
     "name": "stdout",
     "output_type": "stream",
     "text": [
      "[0.07482675 0.33289289 0.61428056 0.65526511 0.433252  ]\n"
     ]
    }
   ],
   "source": [
    "# Array with random numbers between 0 and 1:\n",
    "print(np.random.random(size=5))"
   ]
  },
  {
   "cell_type": "code",
   "execution_count": 22,
   "metadata": {},
   "outputs": [
    {
     "name": "stdout",
     "output_type": "stream",
     "text": [
      "[9 5 9 6 8 3 9 1 1 7 6 8 8 2 1 8 7 1 8 1 4 3 1 5 9 3 2 1 0 5 8 8 1 2 0 5 9\n",
      " 1 5 2 5 6 2 4 7 1 4 0 5 7 4 2 1 1 8 1 0 9 6 8 2 9 6 1 5 8 9 9 7 1 0 8 4 8\n",
      " 4 8 8 0 4 4 7 9 6 3 1 4 9 7 3 2 2 0 6 8 8 4 0 1 9 2 5 4 2 3 0 6 5 4 2 5 1\n",
      " 4 4 0 8 1 7 1 1 7 7 5 3 4 3 5 9 3 0 8 8 0 1 6 3 8 9 2 1 2 7 6 2 4 4 9 9 6\n",
      " 1 8 0 9 9 2 3 3 8 3 4 0 5 1 2 0 2 2 5 1 3 7 8 8 6 5 6 3 0 9 2 9 9 7 5 8 6\n",
      " 0 2 9 9 6 0 2 1 6 6 0 9 6 8 5]\n"
     ]
    }
   ],
   "source": [
    "# Array with random integers\n",
    "print(np.random.randint(0,10,size=200))"
   ]
  },
  {
   "cell_type": "code",
   "execution_count": 24,
   "metadata": {},
   "outputs": [
    {
     "name": "stdout",
     "output_type": "stream",
     "text": [
      "[  0.95645957 -28.72909033  -8.61100949  45.17685863  45.19857741\n",
      " -38.76986381]\n"
     ]
    }
   ],
   "source": [
    "# Array with normal dist. random numbers:\n",
    "print(np.random.normal(loc=0.0, scale=1.0, size=6))"
   ]
  },
  {
   "cell_type": "markdown",
   "metadata": {},
   "source": [
    "#### Indexing:"
   ]
  },
  {
   "cell_type": "code",
   "execution_count": 25,
   "metadata": {},
   "outputs": [
    {
     "name": "stdout",
     "output_type": "stream",
     "text": [
      "[[1 4 5 6]\n",
      " [7 3 6 3]\n",
      " [3 3 1 9]]\n"
     ]
    }
   ],
   "source": [
    "test_vector=np.array([[1,4,5,6],[7,3,6,3],[3,3,1,9]])\n",
    "print(test_vector)"
   ]
  },
  {
   "cell_type": "code",
   "execution_count": 26,
   "metadata": {},
   "outputs": [
    {
     "name": "stdout",
     "output_type": "stream",
     "text": [
      "[1 4 5 6]\n"
     ]
    }
   ],
   "source": [
    "# Print frist row\n",
    "print(test_vector[0,:])"
   ]
  },
  {
   "cell_type": "code",
   "execution_count": 27,
   "metadata": {},
   "outputs": [
    {
     "name": "stdout",
     "output_type": "stream",
     "text": [
      "[6 3 9]\n"
     ]
    }
   ],
   "source": [
    "# Print last column\n",
    "print(test_vector[:,-1])"
   ]
  },
  {
   "cell_type": "markdown",
   "metadata": {},
   "source": [
    "<span style=\"color:blue\"><b>Task:</b></span> Print the 2x2 matrix in the lower, right corner."
   ]
  },
  {
   "cell_type": "code",
   "execution_count": 30,
   "metadata": {},
   "outputs": [
    {
     "name": "stdout",
     "output_type": "stream",
     "text": [
      "[[6 3]\n",
      " [1 9]]\n",
      "3\n",
      "4\n"
     ]
    }
   ],
   "source": [
    "print(test_vector[-2:,-2:])\n",
    "\n",
    "n_rows,n_cols=np.shape(test_vector)\n",
    "print(n_rows)\n",
    "print(n_cols)"
   ]
  },
  {
   "cell_type": "markdown",
   "metadata": {},
   "source": [
    "<span style=\"color:blue\"><b>Task:</b></span> Create a  4x4 identity matrix!"
   ]
  },
  {
   "cell_type": "code",
   "execution_count": 31,
   "metadata": {},
   "outputs": [
    {
     "name": "stdout",
     "output_type": "stream",
     "text": [
      "[[1. 0. 0. 0.]\n",
      " [0. 1. 0. 0.]\n",
      " [0. 0. 1. 0.]\n",
      " [0. 0. 0. 1.]]\n"
     ]
    }
   ],
   "source": [
    "# Use a for loop!\n",
    "matrix=np.zeros((4,4))\n",
    "for i in range(4):\n",
    "    matrix[i,i]=1\n",
    "    \n",
    "print(matrix)\n",
    "\n",
    "\n"
   ]
  },
  {
   "cell_type": "code",
   "execution_count": 32,
   "metadata": {},
   "outputs": [
    {
     "name": "stdout",
     "output_type": "stream",
     "text": [
      "[[1. 0. 0. 0.]\n",
      " [0. 1. 0. 0.]\n",
      " [0. 0. 1. 0.]\n",
      " [0. 0. 0. 1.]]\n"
     ]
    }
   ],
   "source": [
    "matrix=np.zeros((4,4))\n",
    "\n",
    "for i in range(4):\n",
    "    for j in range(4):\n",
    "        if i==j:\n",
    "            matrix[i,j]=1\n",
    "print(matrix)            \n",
    "            "
   ]
  },
  {
   "cell_type": "code",
   "execution_count": 33,
   "metadata": {},
   "outputs": [
    {
     "name": "stdout",
     "output_type": "stream",
     "text": [
      "[[1 0 0 0]\n",
      " [0 1 0 0]\n",
      " [0 0 1 0]\n",
      " [0 0 0 1]]\n"
     ]
    }
   ],
   "source": [
    "# Use a the diagonal method!\n",
    "matrix=np.diag([1,1,1,1])\n",
    "print(matrix)"
   ]
  },
  {
   "cell_type": "code",
   "execution_count": 34,
   "metadata": {},
   "outputs": [
    {
     "name": "stdout",
     "output_type": "stream",
     "text": [
      "[[1. 0. 0. ... 0. 0. 0.]\n",
      " [0. 1. 0. ... 0. 0. 0.]\n",
      " [0. 0. 1. ... 0. 0. 0.]\n",
      " ...\n",
      " [0. 0. 0. ... 1. 0. 0.]\n",
      " [0. 0. 0. ... 0. 1. 0.]\n",
      " [0. 0. 0. ... 0. 0. 1.]]\n"
     ]
    }
   ],
   "source": [
    "matrix=np.diag(np.ones(100))\n",
    "print(matrix)\n"
   ]
  },
  {
   "cell_type": "code",
   "execution_count": 35,
   "metadata": {},
   "outputs": [
    {
     "name": "stdout",
     "output_type": "stream",
     "text": [
      "[[1 0 0 ... 0 0 0]\n",
      " [0 1 0 ... 0 0 0]\n",
      " [0 0 1 ... 0 0 0]\n",
      " ...\n",
      " [0 0 0 ... 1 0 0]\n",
      " [0 0 0 ... 0 1 0]\n",
      " [0 0 0 ... 0 0 1]]\n"
     ]
    }
   ],
   "source": [
    "matrix=np.diag([1]*100)\n",
    "print(matrix)"
   ]
  },
  {
   "cell_type": "code",
   "execution_count": 39,
   "metadata": {},
   "outputs": [
    {
     "name": "stdout",
     "output_type": "stream",
     "text": [
      "[[1. 0. 0. 0.]\n",
      " [0. 1. 0. 0.]\n",
      " [0. 0. 1. 0.]\n",
      " [0. 0. 0. 1.]]\n",
      "[[1. 0. 0. 0.]\n",
      " [0. 1. 0. 0.]\n",
      " [0. 0. 1. 0.]\n",
      " [0. 0. 0. 1.]]\n"
     ]
    }
   ],
   "source": [
    "# Use a the method numpy method provides for you!\n",
    "matrix=np.identity(4)\n",
    "print(matrix)\n",
    "matrix=np.eye(4,4)\n",
    "print(matrix)"
   ]
  },
  {
   "cell_type": "markdown",
   "metadata": {},
   "source": [
    "You can also index arrays with booleans:"
   ]
  },
  {
   "cell_type": "code",
   "execution_count": 41,
   "metadata": {},
   "outputs": [
    {
     "name": "stdout",
     "output_type": "stream",
     "text": [
      "[[1 4 5 6]\n",
      " [7 3 6 3]\n",
      " [3 3 1 9]]\n",
      "[[False  True  True  True]\n",
      " [ True False  True False]\n",
      " [False False False  True]]\n",
      "[4 5 6 7 6 9]\n"
     ]
    }
   ],
   "source": [
    "print(test_vector)\n",
    "\n",
    "print(test_vector>3)\n",
    "print(test_vector[test_vector>3])"
   ]
  },
  {
   "cell_type": "code",
   "execution_count": 48,
   "metadata": {},
   "outputs": [
    {
     "name": "stdout",
     "output_type": "stream",
     "text": [
      "[ 1.  3.  4.  5.  2. nan 53.]\n",
      "nan\n",
      "[ True  True  True  True  True False  True]\n",
      "[ 1.  3.  4.  5.  2. 53.]\n",
      "68.0\n"
     ]
    }
   ],
   "source": [
    "vector=np.array([1,3,4,5,2,np.nan,53])\n",
    "\n",
    "print(vector)\n",
    "print(np.sum(vector))\n",
    "\n",
    "print(~np.isnan(vector))\n",
    "print(vector[~np.isnan(vector)])\n",
    "vector=vector[~np.isnan(vector)]\n",
    "print(np.sum(vector))"
   ]
  },
  {
   "cell_type": "markdown",
   "metadata": {},
   "source": [
    "#### Stacking\n",
    "You can also stack vector or matrices horizontally or vertically :"
   ]
  },
  {
   "cell_type": "code",
   "execution_count": 49,
   "metadata": {},
   "outputs": [
    {
     "name": "stdout",
     "output_type": "stream",
     "text": [
      "[[1 4 5]\n",
      " [7 3 6]]\n"
     ]
    }
   ],
   "source": [
    "test_vector=np.array([[1,4,5],[7,3,6]])\n",
    "print(test_vector)"
   ]
  },
  {
   "cell_type": "code",
   "execution_count": 50,
   "metadata": {},
   "outputs": [
    {
     "name": "stdout",
     "output_type": "stream",
     "text": [
      "[[1 4 5 1 4 5]\n",
      " [7 3 6 7 3 6]]\n"
     ]
    }
   ],
   "source": [
    "#Stack horizontally:\n",
    "print(np.hstack((test_vector,test_vector)))"
   ]
  },
  {
   "cell_type": "code",
   "execution_count": 51,
   "metadata": {},
   "outputs": [
    {
     "name": "stdout",
     "output_type": "stream",
     "text": [
      "[[1 4 5]\n",
      " [7 3 6]\n",
      " [1 4 5]\n",
      " [7 3 6]]\n"
     ]
    }
   ],
   "source": [
    "#Stack vertically:\n",
    "print(np.vstack((test_vector,test_vector)))"
   ]
  },
  {
   "cell_type": "markdown",
   "metadata": {},
   "source": [
    "#### Sorting:"
   ]
  },
  {
   "cell_type": "code",
   "execution_count": 60,
   "metadata": {},
   "outputs": [
    {
     "name": "stdout",
     "output_type": "stream",
     "text": [
      "[0 0 2 8 4 6 8 6 4 8 4 0 7 3 8 9 0 2 2 5]\n"
     ]
    }
   ],
   "source": [
    "sort_vector=np.random.randint(0,10,size=20)\n",
    "print(sort_vector)"
   ]
  },
  {
   "cell_type": "code",
   "execution_count": 53,
   "metadata": {},
   "outputs": [
    {
     "name": "stdout",
     "output_type": "stream",
     "text": [
      "[0 0 0 1 1 1 2 2 3 4 5 5 5 6 7 7 8 8 8 9]\n"
     ]
    }
   ],
   "source": [
    "# Sort vector\n",
    "print(np.sort(sort_vector))"
   ]
  },
  {
   "cell_type": "code",
   "execution_count": 54,
   "metadata": {},
   "outputs": [
    {
     "name": "stdout",
     "output_type": "stream",
     "text": [
      "[15  4 13 17  2 14  6 11 18  9 12 19  5  7 10  0  3 16  1  8]\n"
     ]
    }
   ],
   "source": [
    "# Gives back the new indices of the elements if the vector would be sorted:\n",
    "print(np.argsort(sort_vector))"
   ]
  },
  {
   "cell_type": "code",
   "execution_count": 55,
   "metadata": {},
   "outputs": [
    {
     "name": "stdout",
     "output_type": "stream",
     "text": [
      "[0 0 0 1 1 1 2 2 3 4 5 5 5 6 7 7 8 8 8 9]\n"
     ]
    }
   ],
   "source": [
    "print(sort_vector[np.argsort(sort_vector)])"
   ]
  },
  {
   "cell_type": "code",
   "execution_count": 58,
   "metadata": {},
   "outputs": [
    {
     "name": "stdout",
     "output_type": "stream",
     "text": [
      "['Aniqua' 'Huy' 'Mukta' 'Tom']\n",
      "[2 0 1 3]\n",
      "['Mukta' 'Tom' 'Huy' 'Aniqua']\n"
     ]
    }
   ],
   "source": [
    "names=np.array(['Tom','Huy','Mukta','Aniqua'])\n",
    "\n",
    "age=np.array([26,32,23,99])\n",
    "\n",
    "print(np.sort(names))\n",
    "\n",
    "print(np.argsort(age))\n",
    "\n",
    "print(names[np.argsort(age)])"
   ]
  },
  {
   "cell_type": "code",
   "execution_count": null,
   "metadata": {},
   "outputs": [],
   "source": []
  },
  {
   "cell_type": "code",
   "execution_count": 56,
   "metadata": {},
   "outputs": [
    {
     "name": "stdout",
     "output_type": "stream",
     "text": [
      "[8 6 4 6 8 7 6 5 7 1 6 3 1 8 2 1 0 7 8 6]\n",
      "[1 8 8 7 4 2 6 3 8 1 1 6 7 5 6 8 6 0 6 7]\n"
     ]
    }
   ],
   "source": [
    "# You can use if to sort an vector with order of an other vector:\n",
    "sort_vector_2=np.random.randint(0,10,size=20)\n",
    "print(sort_vector_2)\n",
    "print(sort_vector_2[np.argsort(sort_vector)])"
   ]
  },
  {
   "cell_type": "code",
   "execution_count": 61,
   "metadata": {},
   "outputs": [
    {
     "name": "stdout",
     "output_type": "stream",
     "text": [
      "9\n",
      "0\n",
      "15\n",
      "0\n"
     ]
    }
   ],
   "source": [
    "#There are also function to find the minimum or maximum value of vector:\n",
    "print(np.max(sort_vector))\n",
    "print(np.min(sort_vector))\n",
    "print(np.argmax(sort_vector))\n",
    "print(np.argmin(sort_vector))"
   ]
  },
  {
   "cell_type": "markdown",
   "metadata": {},
   "source": [
    "#### Mathematical functions:\n",
    "\n",
    "There are all standard (and not so standard)  [mathematical functions](https://numpy.org/doc/stable/reference/routines.math.html) in numpy:"
   ]
  },
  {
   "cell_type": "code",
   "execution_count": 62,
   "metadata": {},
   "outputs": [
    {
     "name": "stdout",
     "output_type": "stream",
     "text": [
      "[[1 4 5 6]\n",
      " [7 3 6 3]\n",
      " [3 3 1 9]]\n"
     ]
    }
   ],
   "source": [
    "test_vector=np.array([[1,4,5,6],[7,3,6,3],[3,3,1,9]])\n",
    "print(test_vector)"
   ]
  },
  {
   "cell_type": "code",
   "execution_count": 63,
   "metadata": {},
   "outputs": [
    {
     "name": "stdout",
     "output_type": "stream",
     "text": [
      "51\n"
     ]
    }
   ],
   "source": [
    "#Total sum\n",
    "print(np.sum(test_vector))"
   ]
  },
  {
   "cell_type": "code",
   "execution_count": 64,
   "metadata": {},
   "outputs": [
    {
     "name": "stdout",
     "output_type": "stream",
     "text": [
      "[11 10 12 18]\n"
     ]
    }
   ],
   "source": [
    "#Sum for every column\n",
    "print(np.sum(test_vector,axis=0))"
   ]
  },
  {
   "cell_type": "code",
   "execution_count": 65,
   "metadata": {},
   "outputs": [
    {
     "name": "stdout",
     "output_type": "stream",
     "text": [
      "[16 19 16]\n"
     ]
    }
   ],
   "source": [
    "#Sum for every row\n",
    "print(np.sum(test_vector,axis=1))"
   ]
  },
  {
   "cell_type": "markdown",
   "metadata": {},
   "source": [
    "<span style=\"color:blue\"><b>Task:</b></span> Calculate the mean for the first two rows steperately. (2 Versions)"
   ]
  },
  {
   "cell_type": "code",
   "execution_count": 71,
   "metadata": {},
   "outputs": [
    {
     "name": "stdout",
     "output_type": "stream",
     "text": [
      "[4.   4.75]\n"
     ]
    }
   ],
   "source": [
    "#print(test_vector[0,:].mean())\n",
    "print(np.mean(test_vector[:2,:],axis=1))"
   ]
  },
  {
   "cell_type": "code",
   "execution_count": 76,
   "metadata": {},
   "outputs": [
    {
     "name": "stdout",
     "output_type": "stream",
     "text": [
      "[4.   4.75]\n"
     ]
    }
   ],
   "source": [
    "print(np.mean(test_vector,axis=1)[:2])"
   ]
  },
  {
   "cell_type": "code",
   "execution_count": 77,
   "metadata": {},
   "outputs": [
    {
     "name": "stdout",
     "output_type": "stream",
     "text": [
      "[[ 2  8 10 12]\n",
      " [14  6 12  6]\n",
      " [ 6  6  2 18]]\n",
      "[[1 1 2 0]\n",
      " [1 0 0 0]\n",
      " [0 0 1 0]]\n"
     ]
    }
   ],
   "source": [
    "# You also apply the stand math operators on numpy arrays:\n",
    "print(test_vector*2)\n",
    "print(test_vector%3)"
   ]
  },
  {
   "cell_type": "code",
   "execution_count": 78,
   "metadata": {
    "pycharm": {
     "name": "#%% Variance and std\n"
    }
   },
   "outputs": [
    {
     "name": "stdout",
     "output_type": "stream",
     "text": [
      "[2.49443826 0.47140452 2.1602469  2.44948974]\n",
      "[2.49443826 0.47140452 2.1602469  2.44948974]\n"
     ]
    }
   ],
   "source": [
    "print(np.var(test_vector,axis=0)**0.5)\n",
    "print(np.std(test_vector,axis=0))"
   ]
  },
  {
   "cell_type": "code",
   "execution_count": 79,
   "metadata": {
    "pycharm": {
     "name": "#%% Sin, cos tan\n"
    }
   },
   "outputs": [
    {
     "name": "stdout",
     "output_type": "stream",
     "text": [
      "[[ 0.84147098 -0.7568025  -0.95892427 -0.2794155 ]\n",
      " [ 0.6569866   0.14112001 -0.2794155   0.14112001]\n",
      " [ 0.14112001  0.14112001  0.84147098  0.41211849]]\n",
      "[[ 0.54030231 -0.65364362  0.28366219  0.96017029]\n",
      " [ 0.75390225 -0.9899925   0.96017029 -0.9899925 ]\n",
      " [-0.9899925  -0.9899925   0.54030231 -0.91113026]]\n",
      "[[ 1.55740772  1.15782128 -3.38051501 -0.29100619]\n",
      " [ 0.87144798 -0.14254654 -0.29100619 -0.14254654]\n",
      " [-0.14254654 -0.14254654  1.55740772 -0.45231566]]\n"
     ]
    }
   ],
   "source": [
    "print(np.sin(test_vector))\n",
    "print(np.cos(test_vector))\n",
    "print(np.tan(test_vector))"
   ]
  },
  {
   "cell_type": "markdown",
   "metadata": {},
   "source": [
    "<span style=\"color:blue\"><b>Task:</b></span> Rebuild this numpy.sin function with a for loop."
   ]
  },
  {
   "cell_type": "code",
   "execution_count": 81,
   "metadata": {},
   "outputs": [
    {
     "name": "stdout",
     "output_type": "stream",
     "text": [
      "[[1. 1. 1. 1.]\n",
      " [1. 1. 1. 1.]\n",
      " [1. 1. 1. 1.]]\n",
      "[[ 0.84147098 -0.7568025  -0.95892427 -0.2794155 ]\n",
      " [ 0.6569866   0.14112001 -0.2794155   0.14112001]\n",
      " [ 0.14112001  0.14112001  0.84147098  0.41211849]]\n",
      "0.0\n"
     ]
    }
   ],
   "source": [
    "sin_results=np.ones(np.shape(test_vector))\n",
    "print(sin_results)\n",
    "import math\n",
    "\n",
    "nrows,ncols=np.shape(test_vector)\n",
    "\n",
    "for i in range(nrows):\n",
    "    for j in range(ncols):\n",
    "        sin_results[i,j]=math.sin(test_vector[i,j])\n",
    "\n",
    "print(sin_results)\n",
    "print (math.sin(0.00))"
   ]
  },
  {
   "cell_type": "markdown",
   "metadata": {},
   "source": [
    "<span style=\"color:blue\"><b>Task:</b></span> Calculate the sum of squares for every column."
   ]
  },
  {
   "cell_type": "code",
   "execution_count": 83,
   "metadata": {},
   "outputs": [
    {
     "name": "stdout",
     "output_type": "stream",
     "text": [
      "[ 59  34  62 126]\n"
     ]
    }
   ],
   "source": [
    "print(np.sum(test_vector**2,axis=0))"
   ]
  },
  {
   "cell_type": "markdown",
   "metadata": {},
   "source": [
    "<span style=\"color:blue\"><b>Task:</b></span> Standardise the test_vector."
   ]
  },
  {
   "cell_type": "code",
   "execution_count": 84,
   "metadata": {},
   "outputs": [
    {
     "name": "stdout",
     "output_type": "stream",
     "text": [
      "[[-1.40455069 -0.10804236  0.32412708  0.75629653]\n",
      " [ 1.18846597 -0.5402118   0.75629653 -0.5402118 ]\n",
      " [-0.5402118  -0.5402118  -1.40455069  2.05280486]]\n"
     ]
    }
   ],
   "source": [
    "print((test_vector-np.mean(test_vector))/np.std(test_vector))"
   ]
  },
  {
   "cell_type": "code",
   "execution_count": 86,
   "metadata": {},
   "outputs": [
    {
     "name": "stdout",
     "output_type": "stream",
     "text": [
      "[3.66666667 3.33333333 4.         6.        ]\n",
      "[2.49443826 0.47140452 2.1602469  2.44948974]\n",
      "[[-1.06904497  1.41421356  0.46291005  0.        ]\n",
      " [ 1.33630621 -0.70710678  0.9258201  -1.22474487]\n",
      " [-0.26726124 -0.70710678 -1.38873015  1.22474487]]\n"
     ]
    }
   ],
   "source": [
    "print(np.mean(test_vector,axis=0))\n",
    "print(np.std(test_vector,axis=0))\n",
    "\n",
    "print((test_vector-np.mean(test_vector,axis=0))/np.std(test_vector,axis=0))\n"
   ]
  },
  {
   "cell_type": "markdown",
   "metadata": {},
   "source": [
    "#### Other functions"
   ]
  },
  {
   "cell_type": "code",
   "execution_count": 89,
   "metadata": {},
   "outputs": [
    {
     "name": "stdout",
     "output_type": "stream",
     "text": [
      "[[1 4 5 6]\n",
      " [7 3 6 3]\n",
      " [3 3 1 9]]\n",
      "[[4 2 9 1]\n",
      " [7 4 6 3]\n",
      " [2 4 1 9]]\n"
     ]
    }
   ],
   "source": [
    "test_vector=np.array([[1,4,5,6],[7,3,6,3],[3,3,1,9]])\n",
    "test_vector_2=np.array([[4,2,9,1],[7,4,6,3],[2,4,1,9]])\n",
    "\n",
    "print(test_vector)\n",
    "print(test_vector_2)"
   ]
  },
  {
   "cell_type": "code",
   "execution_count": 90,
   "metadata": {},
   "outputs": [
    {
     "name": "stdout",
     "output_type": "stream",
     "text": [
      "[[nan  4. nan  6.]\n",
      " [ 7. nan  6.  3.]\n",
      " [ 3. nan  1.  9.]]\n",
      "[[4 4 9 6]\n",
      " [7 4 6 3]\n",
      " [3 4 1 9]]\n"
     ]
    }
   ],
   "source": [
    "# Use where to apply condition on vectors.\n",
    "print(np.where(test_vector>=test_vector_2,test_vector,np.nan))\n",
    "\n",
    "# Use where to apply condition on vectors.\n",
    "print(np.where(test_vector>=test_vector_2,test_vector,test_vector_2))"
   ]
  },
  {
   "cell_type": "code",
   "execution_count": 91,
   "metadata": {},
   "outputs": [
    {
     "name": "stdout",
     "output_type": "stream",
     "text": [
      "(array([1, 3, 4, 5, 6, 7, 9]), array([2, 4, 1, 1, 2, 1, 1], dtype=int64))\n"
     ]
    }
   ],
   "source": [
    "# Use unique to delete duplicates and retrun the counts.\n",
    "print(np.unique(test_vector,return_counts=True))"
   ]
  },
  {
   "cell_type": "code",
   "execution_count": 92,
   "metadata": {},
   "outputs": [
    {
     "name": "stdout",
     "output_type": "stream",
     "text": [
      "[1 3 4 5 6 7 9]\n",
      "[2 4 1 1 2 1 1]\n"
     ]
    }
   ],
   "source": [
    "unique_vector,counts=np.unique(test_vector,return_counts=True)\n",
    "print(unique_vector)\n",
    "print(counts)"
   ]
  },
  {
   "cell_type": "markdown",
   "metadata": {},
   "source": [
    "<span style=\"color:blue\"><b>Task:</b></span> Sort the unique values with its counts in descending order."
   ]
  },
  {
   "cell_type": "code",
   "execution_count": 98,
   "metadata": {},
   "outputs": [
    {
     "name": "stdout",
     "output_type": "stream",
     "text": [
      "[1 0 4 2 3 5 6]\n",
      "[3 1 6 4 5 7 9]\n"
     ]
    }
   ],
   "source": [
    "print(np.argsort(-counts))\n",
    "\n",
    "print(unique_vector[np.argsort(-counts)])"
   ]
  },
  {
   "cell_type": "markdown",
   "metadata": {},
   "source": [
    "## Saving and loading data into Pandas dataframe <a id=savepandas>\n",
    "[Back to Content Overview](#ov)"
   ]
  },
  {
   "cell_type": "code",
   "execution_count": 99,
   "metadata": {},
   "outputs": [],
   "source": [
    "import pandas as pd"
   ]
  },
  {
   "cell_type": "markdown",
   "metadata": {},
   "source": [
    "The mean object of the pandas module is the dataframe. A datatable with named rows and columns:"
   ]
  },
  {
   "cell_type": "code",
   "execution_count": 101,
   "metadata": {},
   "outputs": [
    {
     "name": "stdout",
     "output_type": "stream",
     "text": [
      "['column_0', 'column_1', 'column_2', 'column_3']\n"
     ]
    }
   ],
   "source": [
    "#Import data from a matrix\n",
    "column_names=['column_'+str(i) for i in range(0,4)]\n",
    "print(column_names)\n",
    "df=pd.DataFrame(data=test_vector,columns=column_names,index=None)"
   ]
  },
  {
   "cell_type": "code",
   "execution_count": 102,
   "metadata": {},
   "outputs": [
    {
     "name": "stdout",
     "output_type": "stream",
     "text": [
      "   column_0  column_1  column_2  column_3\n",
      "0         1         4         5         6\n",
      "1         7         3         6         3\n",
      "2         3         3         1         9\n",
      "RangeIndex(start=0, stop=3, step=1) [0, 1, 2]\n",
      "Index(['column_0', 'column_1', 'column_2', 'column_3'], dtype='object')\n"
     ]
    }
   ],
   "source": [
    "print(df)\n",
    "print(df.index,list(df.index))\n",
    "print(df.columns)"
   ]
  },
  {
   "cell_type": "code",
   "execution_count": 103,
   "metadata": {},
   "outputs": [
    {
     "name": "stdout",
     "output_type": "stream",
     "text": [
      "   one  two  three  four\n",
      "1    1    4      5     6\n",
      "2    7    3      6     3\n",
      "3    3    3      1     9\n"
     ]
    }
   ],
   "source": [
    "#You can change the indices and columns via:\n",
    "df.index=[1,2,3]\n",
    "df.columns=['one','two','three','four']\n",
    "\n",
    "print(df)"
   ]
  },
  {
   "cell_type": "code",
   "execution_count": 104,
   "metadata": {},
   "outputs": [
    {
     "name": "stdout",
     "output_type": "stream",
     "text": [
      "1    1\n",
      "2    7\n",
      "3    3\n",
      "Name: one, dtype: int32\n",
      "[1, 7, 3]\n"
     ]
    }
   ],
   "source": [
    "#You access columns similar to dict value:\n",
    "print(df['one'])\n",
    "\n",
    "print(list(df['one']))"
   ]
  },
  {
   "cell_type": "code",
   "execution_count": 105,
   "metadata": {},
   "outputs": [
    {
     "name": "stdout",
     "output_type": "stream",
     "text": [
      "1    1\n",
      "2    7\n",
      "3    3\n",
      "Name: one, dtype: int32\n",
      "1    4\n",
      "2    3\n",
      "3    3\n",
      "Name: two, dtype: int32\n",
      "1    5\n",
      "2    6\n",
      "3    1\n",
      "Name: three, dtype: int32\n",
      "1    6\n",
      "2    3\n",
      "3    9\n",
      "Name: four, dtype: int32\n"
     ]
    }
   ],
   "source": [
    "for col in df.columns:\n",
    "    print(df[col])"
   ]
  },
  {
   "cell_type": "markdown",
   "metadata": {},
   "source": [
    "### Importing and saving data"
   ]
  },
  {
   "cell_type": "code",
   "execution_count": 106,
   "metadata": {},
   "outputs": [
    {
     "name": "stdout",
     "output_type": "stream",
     "text": [
      "   0  1  2  3\n",
      "0  1  4  5  6\n",
      "1  7  3  6  3\n",
      "2  3  3  1  9\n"
     ]
    }
   ],
   "source": [
    "#Import data from a nested_list\n",
    "df=pd.DataFrame(data=[[1,4,5,6],[7,3,6,3],[3,3,1,9]],columns=None,index=None)\n",
    "print(df)\n"
   ]
  },
  {
   "cell_type": "code",
   "execution_count": 107,
   "metadata": {},
   "outputs": [
    {
     "name": "stdout",
     "output_type": "stream",
     "text": [
      "   col1  col2  col3\n",
      "0     1     7     3\n",
      "1     4     3     3\n",
      "2     5     6     1\n",
      "3     6     3     9\n"
     ]
    }
   ],
   "source": [
    "#Import data from a dict\n",
    "data_dict={'col1':[1,4,5,6],'col2':[7,3,6,3],'col3':[3,3,1,9]}\n",
    "df=pd.DataFrame(data=data_dict)\n",
    "print(df)"
   ]
  },
  {
   "cell_type": "code",
   "execution_count": 111,
   "metadata": {},
   "outputs": [
    {
     "name": "stdout",
     "output_type": "stream",
     "text": [
      "{'ind1': 1, 'ind3': 'string'}\n",
      "        col1    col2   col3\n",
      "ind1     688      89    NaN\n",
      "ind3  string  string  hello\n",
      "ind4     NaN     NaN  hello\n"
     ]
    }
   ],
   "source": [
    "#Import data from a dict\n",
    "data_dict={'col1':{'ind1':23,'ind1':1,'ind3':'string'},'col2':{'ind1':89,'ind3':'string'},'col3':{'ind3':'hello','ind4':\"hello\"}}\n",
    "print(data_dict['col1'])\n",
    "data_dict['col1']['ind1']=688\n",
    "df=pd.DataFrame(data=data_dict)\n",
    "print(df)"
   ]
  },
  {
   "cell_type": "code",
   "execution_count": 112,
   "metadata": {},
   "outputs": [],
   "source": [
    "#Save as csv\n",
    "df.to_csv('test_df.csv')"
   ]
  },
  {
   "cell_type": "code",
   "execution_count": 115,
   "metadata": {},
   "outputs": [],
   "source": [
    "#Save as pickle\n",
    "df.to_pickle('test_df.pickle')"
   ]
  },
  {
   "cell_type": "code",
   "execution_count": 114,
   "metadata": {},
   "outputs": [
    {
     "name": "stderr",
     "output_type": "stream",
     "text": [
      "\n",
      "[notice] A new release of pip available: 22.2.2 -> 23.0.1\n",
      "[notice] To update, run: python.exe -m pip install --upgrade pip\n",
      "<ipython-input-114-88084a4c7b68>:4: UserWarning: Pandas requires version '1.4.3' or newer of 'xlsxwriter' (version '1.3.8' currently installed).\n",
      "  df.to_excel('test_df.xlsx')\n"
     ]
    },
    {
     "name": "stdout",
     "output_type": "stream",
     "text": [
      "Requirement already satisfied: openpyxl in c:\\users\\benner\\anaconda3\\lib\\site-packages (3.0.7)\n",
      "Requirement already satisfied: et-xmlfile in c:\\users\\benner\\anaconda3\\lib\\site-packages (from openpyxl) (1.0.1)\n"
     ]
    }
   ],
   "source": [
    "import sys\n",
    "!{sys.executable} -m pip install openpyxl\n",
    "#Save as excel\n",
    "df.to_excel('test_df.xlsx')"
   ]
  },
  {
   "cell_type": "markdown",
   "metadata": {},
   "source": [
    "## Investigate your Pandas dataframe <a id=Investigate>\n",
    "[Back to Content Overview](#ov)"
   ]
  },
  {
   "cell_type": "code",
   "execution_count": 158,
   "metadata": {},
   "outputs": [
    {
     "name": "stdout",
     "output_type": "stream",
     "text": [
      "       #          Player            Position  Age Market value  Matches  \\\n",
      "0      1   Kylian Mbappé      Centre-Forward   22    €160.00m        11   \n",
      "1      2  Erling Haaland      Centre-Forward   21    €150.00m         8   \n",
      "2      3      Harry Kane      Centre-Forward   28    €120.00m        10   \n",
      "3      4   Jack Grealish         Left Winger   26    €100.00m        10   \n",
      "4      5   Mohamed Salah        Right Winger   29    €100.00m         9   \n",
      "..   ...             ...                 ...  ...          ...      ...   \n",
      "495  496      Tom Davies    Central Midfield   23     €18.00m         5   \n",
      "496  497   Hans Hateboer          Right-Back   27     €18.00m         0   \n",
      "497  498      David Raya          Goalkeeper   26     €18.00m         7   \n",
      "498  499    Gregor Kobel          Goalkeeper   23     €18.00m        12   \n",
      "499  500  Wilmar Barrios  Defensive Midfield   27     €18.00m        10   \n",
      "\n",
      "     Goals  Own goals  Assists  Yellow cards  Yellow red cards  Red cards  \\\n",
      "0        4          0        5             2                 0          0   \n",
      "1       11          0        4             1                 0          0   \n",
      "2        6          0        0             2                 0          0   \n",
      "3        2          0        2             1                 0          0   \n",
      "4        9          0        3             1                 0          0   \n",
      "..     ...        ...      ...           ...               ...        ...   \n",
      "495      0          0        1             0                 0          0   \n",
      "496      0          0        0             0                 0          0   \n",
      "497      0          0        0             0                 0          0   \n",
      "498      0          0        0             0                 0          0   \n",
      "499      0          0        0             0                 0          0   \n",
      "\n",
      "     Substitutions on  Substitutions off  \n",
      "0                   0                  5  \n",
      "1                   0                  1  \n",
      "2                   2                  2  \n",
      "3                   1                  5  \n",
      "4                   0                  2  \n",
      "..                ...                ...  \n",
      "495                 3                  1  \n",
      "496                 0                  0  \n",
      "497                 0                  0  \n",
      "498                 0                  0  \n",
      "499                 0                  2  \n",
      "\n",
      "[500 rows x 14 columns]\n"
     ]
    }
   ],
   "source": [
    "#Import data from a excel_file\n",
    "df=pd.read_excel('top_500_football_players.xlsx',sheet_name='final')\n",
    "print(df)"
   ]
  },
  {
   "cell_type": "code",
   "execution_count": 117,
   "metadata": {},
   "outputs": [
    {
     "name": "stdout",
     "output_type": "stream",
     "text": [
      "Index(['#', 'Player', 'Position', 'Age', 'Market value', 'Matches', 'Goals',\n",
      "       'Own goals', 'Assists', 'Yellow cards', 'Yellow red cards', 'Red cards',\n",
      "       'Substitutions on', 'Substitutions off'],\n",
      "      dtype='object')\n"
     ]
    }
   ],
   "source": [
    "#Show all columns names\n",
    "print(df.columns)"
   ]
  },
  {
   "cell_type": "code",
   "execution_count": 118,
   "metadata": {},
   "outputs": [
    {
     "name": "stdout",
     "output_type": "stream",
     "text": [
      "RangeIndex(start=0, stop=500, step=1)\n"
     ]
    }
   ],
   "source": [
    "#Show all row names\n",
    "print(df.index)"
   ]
  },
  {
   "cell_type": "code",
   "execution_count": 121,
   "metadata": {},
   "outputs": [
    {
     "name": "stdout",
     "output_type": "stream",
     "text": [
      "    #           Player            Position  Age Market value  Matches  Goals  \\\n",
      "0   1    Kylian Mbappé      Centre-Forward   22    €160.00m        11      4   \n",
      "1   2   Erling Haaland      Centre-Forward   21    €150.00m         8     11   \n",
      "2   3       Harry Kane      Centre-Forward   28    €120.00m        10      6   \n",
      "3   4    Jack Grealish         Left Winger   26    €100.00m        10      2   \n",
      "4   5    Mohamed Salah        Right Winger   29    €100.00m         9      9   \n",
      "5   6    Romelu Lukaku      Centre-Forward   28    €100.00m         9      4   \n",
      "6   7  Kevin De Bruyne  Attacking Midfield   30    €100.00m         7      2   \n",
      "7   8           Neymar         Left Winger   29    €100.00m         7      1   \n",
      "8   9     Jadon Sancho         Left Winger   21     €90.00m         9      0   \n",
      "9  10  Frenkie de Jong    Central Midfield   24     €90.00m         8      0   \n",
      "\n",
      "   Own goals  Assists  Yellow cards  Yellow red cards  Red cards  \\\n",
      "0          0        5             2                 0          0   \n",
      "1          0        4             1                 0          0   \n",
      "2          0        0             2                 0          0   \n",
      "3          0        2             1                 0          0   \n",
      "4          0        3             1                 0          0   \n",
      "5          0        0             0                 0          0   \n",
      "6          0        0             1                 0          0   \n",
      "7          0        2             1                 0          0   \n",
      "8          0        0             0                 0          0   \n",
      "9          0        2             0                 1          0   \n",
      "\n",
      "   Substitutions on  Substitutions off  \n",
      "0                 0                  5  \n",
      "1                 0                  1  \n",
      "2                 2                  2  \n",
      "3                 1                  5  \n",
      "4                 0                  2  \n",
      "5                 1                  0  \n",
      "6                 2                  2  \n",
      "7                 0                  2  \n",
      "8                 4                  4  \n",
      "9                 0                  1  \n"
     ]
    }
   ],
   "source": [
    "#Show the ten most valueable players\n",
    "print(df.head(10))"
   ]
  },
  {
   "cell_type": "code",
   "execution_count": 122,
   "metadata": {},
   "outputs": [
    {
     "name": "stdout",
     "output_type": "stream",
     "text": [
      "       #          Player            Position  Age Market value  Matches  \\\n",
      "499  500  Wilmar Barrios  Defensive Midfield   27     €18.00m        10   \n",
      "\n",
      "     Goals  Own goals  Assists  Yellow cards  Yellow red cards  Red cards  \\\n",
      "499      0          0        0             0                 0          0   \n",
      "\n",
      "     Substitutions on  Substitutions off  \n",
      "499                 0                  2  \n"
     ]
    }
   ],
   "source": [
    "#Show Mr. Irrelevant\n",
    "print(df.tail(1))"
   ]
  },
  {
   "cell_type": "code",
   "execution_count": 123,
   "metadata": {},
   "outputs": [
    {
     "name": "stdout",
     "output_type": "stream",
     "text": [
      "#                     int64\n",
      "Player               object\n",
      "Position             object\n",
      "Age                   int64\n",
      "Market value         object\n",
      "Matches               int64\n",
      "Goals                 int64\n",
      "Own goals             int64\n",
      "Assists               int64\n",
      "Yellow cards          int64\n",
      "Yellow red cards      int64\n",
      "Red cards             int64\n",
      "Substitutions on      int64\n",
      "Substitutions off     int64\n",
      "dtype: object\n"
     ]
    }
   ],
   "source": [
    "#Show the data types of columns\n",
    "print(df.dtypes)"
   ]
  },
  {
   "cell_type": "code",
   "execution_count": 124,
   "metadata": {},
   "outputs": [
    {
     "name": "stdout",
     "output_type": "stream",
     "text": [
      "int64     11\n",
      "object     3\n",
      "dtype: int64\n"
     ]
    }
   ],
   "source": [
    "#Count the data types of columns\n",
    "print(df.dtypes.value_counts())"
   ]
  },
  {
   "cell_type": "code",
   "execution_count": 125,
   "metadata": {},
   "outputs": [
    {
     "name": "stdout",
     "output_type": "stream",
     "text": [
      "24    73\n",
      "25    55\n",
      "23    51\n",
      "26    48\n",
      "28    45\n",
      "27    44\n",
      "22    41\n",
      "21    33\n",
      "29    30\n",
      "30    26\n",
      "20    19\n",
      "19     9\n",
      "18     9\n",
      "31     8\n",
      "33     3\n",
      "32     3\n",
      "36     1\n",
      "34     1\n",
      "16     1\n",
      "Name: Age, dtype: int64\n"
     ]
    }
   ],
   "source": [
    "#Count the age of the players\n",
    "print(df['Age'].value_counts())"
   ]
  },
  {
   "cell_type": "code",
   "execution_count": 127,
   "metadata": {},
   "outputs": [
    {
     "name": "stdout",
     "output_type": "stream",
     "text": [
      "16                 Pedri\n",
      "27       Jude Bellingham\n",
      "42         Florian Wirtz\n",
      "48             Ansu Fati\n",
      "65     Eduardo Camavinga\n",
      "76         Jamal Musiala\n",
      "112       Giovanni Reyna\n",
      "274         Ilaix Moriba\n",
      "343         Rayan Cherki\n",
      "Name: Player, dtype: object\n"
     ]
    }
   ],
   "source": [
    "#Show all players with age 36\n",
    "print(df[df['Age']==18]['Player'])"
   ]
  },
  {
   "cell_type": "code",
   "execution_count": 128,
   "metadata": {},
   "outputs": [
    {
     "name": "stdout",
     "output_type": "stream",
     "text": [
      "<class 'pandas.core.frame.DataFrame'>\n",
      "RangeIndex: 500 entries, 0 to 499\n",
      "Data columns (total 14 columns):\n",
      " #   Column             Non-Null Count  Dtype \n",
      "---  ------             --------------  ----- \n",
      " 0   #                  500 non-null    int64 \n",
      " 1   Player             500 non-null    object\n",
      " 2   Position           500 non-null    object\n",
      " 3   Age                500 non-null    int64 \n",
      " 4   Market value       500 non-null    object\n",
      " 5   Matches            500 non-null    int64 \n",
      " 6   Goals              500 non-null    int64 \n",
      " 7   Own goals          500 non-null    int64 \n",
      " 8   Assists            500 non-null    int64 \n",
      " 9   Yellow cards       500 non-null    int64 \n",
      " 10  Yellow red cards   500 non-null    int64 \n",
      " 11  Red cards          500 non-null    int64 \n",
      " 12  Substitutions on   500 non-null    int64 \n",
      " 13  Substitutions off  500 non-null    int64 \n",
      "dtypes: int64(11), object(3)\n",
      "memory usage: 54.8+ KB\n"
     ]
    }
   ],
   "source": [
    "#Show the most important informations of the dataframe\n",
    "df.info()"
   ]
  },
  {
   "cell_type": "code",
   "execution_count": 129,
   "metadata": {},
   "outputs": [
    {
     "data": {
      "text/html": [
       "<div>\n",
       "<style scoped>\n",
       "    .dataframe tbody tr th:only-of-type {\n",
       "        vertical-align: middle;\n",
       "    }\n",
       "\n",
       "    .dataframe tbody tr th {\n",
       "        vertical-align: top;\n",
       "    }\n",
       "\n",
       "    .dataframe thead th {\n",
       "        text-align: right;\n",
       "    }\n",
       "</style>\n",
       "<table border=\"1\" class=\"dataframe\">\n",
       "  <thead>\n",
       "    <tr style=\"text-align: right;\">\n",
       "      <th></th>\n",
       "      <th>#</th>\n",
       "      <th>Age</th>\n",
       "      <th>Matches</th>\n",
       "      <th>Goals</th>\n",
       "      <th>Own goals</th>\n",
       "      <th>Assists</th>\n",
       "      <th>Yellow cards</th>\n",
       "      <th>Yellow red cards</th>\n",
       "      <th>Red cards</th>\n",
       "      <th>Substitutions on</th>\n",
       "      <th>Substitutions off</th>\n",
       "    </tr>\n",
       "  </thead>\n",
       "  <tbody>\n",
       "    <tr>\n",
       "      <th>count</th>\n",
       "      <td>500.000000</td>\n",
       "      <td>500.000000</td>\n",
       "      <td>500.00000</td>\n",
       "      <td>500.000000</td>\n",
       "      <td>500.000000</td>\n",
       "      <td>500.000000</td>\n",
       "      <td>500.000000</td>\n",
       "      <td>500.000000</td>\n",
       "      <td>500.00000</td>\n",
       "      <td>500.000000</td>\n",
       "      <td>500.000000</td>\n",
       "    </tr>\n",
       "    <tr>\n",
       "      <th>mean</th>\n",
       "      <td>250.500000</td>\n",
       "      <td>24.966000</td>\n",
       "      <td>7.62600</td>\n",
       "      <td>1.316000</td>\n",
       "      <td>0.012000</td>\n",
       "      <td>0.910000</td>\n",
       "      <td>0.966000</td>\n",
       "      <td>0.026000</td>\n",
       "      <td>0.02200</td>\n",
       "      <td>1.426000</td>\n",
       "      <td>2.352000</td>\n",
       "    </tr>\n",
       "    <tr>\n",
       "      <th>std</th>\n",
       "      <td>144.481833</td>\n",
       "      <td>3.191428</td>\n",
       "      <td>3.12885</td>\n",
       "      <td>1.976856</td>\n",
       "      <td>0.108994</td>\n",
       "      <td>1.274814</td>\n",
       "      <td>1.052168</td>\n",
       "      <td>0.159295</td>\n",
       "      <td>0.14683</td>\n",
       "      <td>1.740858</td>\n",
       "      <td>2.286165</td>\n",
       "    </tr>\n",
       "    <tr>\n",
       "      <th>min</th>\n",
       "      <td>1.000000</td>\n",
       "      <td>16.000000</td>\n",
       "      <td>0.00000</td>\n",
       "      <td>0.000000</td>\n",
       "      <td>0.000000</td>\n",
       "      <td>0.000000</td>\n",
       "      <td>0.000000</td>\n",
       "      <td>0.000000</td>\n",
       "      <td>0.00000</td>\n",
       "      <td>0.000000</td>\n",
       "      <td>0.000000</td>\n",
       "    </tr>\n",
       "    <tr>\n",
       "      <th>25%</th>\n",
       "      <td>125.750000</td>\n",
       "      <td>23.000000</td>\n",
       "      <td>6.00000</td>\n",
       "      <td>0.000000</td>\n",
       "      <td>0.000000</td>\n",
       "      <td>0.000000</td>\n",
       "      <td>0.000000</td>\n",
       "      <td>0.000000</td>\n",
       "      <td>0.00000</td>\n",
       "      <td>0.000000</td>\n",
       "      <td>0.000000</td>\n",
       "    </tr>\n",
       "    <tr>\n",
       "      <th>50%</th>\n",
       "      <td>250.500000</td>\n",
       "      <td>25.000000</td>\n",
       "      <td>8.00000</td>\n",
       "      <td>1.000000</td>\n",
       "      <td>0.000000</td>\n",
       "      <td>0.000000</td>\n",
       "      <td>1.000000</td>\n",
       "      <td>0.000000</td>\n",
       "      <td>0.00000</td>\n",
       "      <td>1.000000</td>\n",
       "      <td>2.000000</td>\n",
       "    </tr>\n",
       "    <tr>\n",
       "      <th>75%</th>\n",
       "      <td>375.250000</td>\n",
       "      <td>27.000000</td>\n",
       "      <td>10.00000</td>\n",
       "      <td>2.000000</td>\n",
       "      <td>0.000000</td>\n",
       "      <td>1.000000</td>\n",
       "      <td>1.000000</td>\n",
       "      <td>0.000000</td>\n",
       "      <td>0.00000</td>\n",
       "      <td>2.000000</td>\n",
       "      <td>4.000000</td>\n",
       "    </tr>\n",
       "    <tr>\n",
       "      <th>max</th>\n",
       "      <td>500.000000</td>\n",
       "      <td>36.000000</td>\n",
       "      <td>17.00000</td>\n",
       "      <td>13.000000</td>\n",
       "      <td>1.000000</td>\n",
       "      <td>7.000000</td>\n",
       "      <td>6.000000</td>\n",
       "      <td>1.000000</td>\n",
       "      <td>1.00000</td>\n",
       "      <td>9.000000</td>\n",
       "      <td>15.000000</td>\n",
       "    </tr>\n",
       "  </tbody>\n",
       "</table>\n",
       "</div>"
      ],
      "text/plain": [
       "                #         Age    Matches       Goals   Own goals     Assists  \\\n",
       "count  500.000000  500.000000  500.00000  500.000000  500.000000  500.000000   \n",
       "mean   250.500000   24.966000    7.62600    1.316000    0.012000    0.910000   \n",
       "std    144.481833    3.191428    3.12885    1.976856    0.108994    1.274814   \n",
       "min      1.000000   16.000000    0.00000    0.000000    0.000000    0.000000   \n",
       "25%    125.750000   23.000000    6.00000    0.000000    0.000000    0.000000   \n",
       "50%    250.500000   25.000000    8.00000    1.000000    0.000000    0.000000   \n",
       "75%    375.250000   27.000000   10.00000    2.000000    0.000000    1.000000   \n",
       "max    500.000000   36.000000   17.00000   13.000000    1.000000    7.000000   \n",
       "\n",
       "       Yellow cards  Yellow red cards  Red cards  Substitutions on  \\\n",
       "count    500.000000        500.000000  500.00000        500.000000   \n",
       "mean       0.966000          0.026000    0.02200          1.426000   \n",
       "std        1.052168          0.159295    0.14683          1.740858   \n",
       "min        0.000000          0.000000    0.00000          0.000000   \n",
       "25%        0.000000          0.000000    0.00000          0.000000   \n",
       "50%        1.000000          0.000000    0.00000          1.000000   \n",
       "75%        1.000000          0.000000    0.00000          2.000000   \n",
       "max        6.000000          1.000000    1.00000          9.000000   \n",
       "\n",
       "       Substitutions off  \n",
       "count         500.000000  \n",
       "mean            2.352000  \n",
       "std             2.286165  \n",
       "min             0.000000  \n",
       "25%             0.000000  \n",
       "50%             2.000000  \n",
       "75%             4.000000  \n",
       "max            15.000000  "
      ]
     },
     "execution_count": 129,
     "metadata": {},
     "output_type": "execute_result"
    }
   ],
   "source": [
    "#Show the most important statistics of the dataframe\n",
    "df.describe()"
   ]
  },
  {
   "cell_type": "markdown",
   "metadata": {},
   "source": [
    "<span style=\"color:blue\"><b>Task:</b></span> Replicate df.disscribe! Hint: Use numpy to calcalate the statistical measures. "
   ]
  },
  {
   "cell_type": "code",
   "execution_count": 138,
   "metadata": {},
   "outputs": [
    {
     "data": {
      "text/html": [
       "<div>\n",
       "<style scoped>\n",
       "    .dataframe tbody tr th:only-of-type {\n",
       "        vertical-align: middle;\n",
       "    }\n",
       "\n",
       "    .dataframe tbody tr th {\n",
       "        vertical-align: top;\n",
       "    }\n",
       "\n",
       "    .dataframe thead th {\n",
       "        text-align: right;\n",
       "    }\n",
       "</style>\n",
       "<table border=\"1\" class=\"dataframe\">\n",
       "  <thead>\n",
       "    <tr style=\"text-align: right;\">\n",
       "      <th></th>\n",
       "      <th>#</th>\n",
       "      <th>Age</th>\n",
       "      <th>Matches</th>\n",
       "      <th>Goals</th>\n",
       "      <th>Own goals</th>\n",
       "      <th>Assists</th>\n",
       "      <th>Yellow cards</th>\n",
       "      <th>Yellow red cards</th>\n",
       "      <th>Red cards</th>\n",
       "      <th>Substitutions on</th>\n",
       "      <th>Substitutions off</th>\n",
       "    </tr>\n",
       "  </thead>\n",
       "  <tbody>\n",
       "    <tr>\n",
       "      <th>count</th>\n",
       "      <td>500.000000</td>\n",
       "      <td>500.000000</td>\n",
       "      <td>500.00000</td>\n",
       "      <td>500.000000</td>\n",
       "      <td>500.000000</td>\n",
       "      <td>500.000000</td>\n",
       "      <td>500.000000</td>\n",
       "      <td>500.000000</td>\n",
       "      <td>500.00000</td>\n",
       "      <td>500.000000</td>\n",
       "      <td>500.000000</td>\n",
       "    </tr>\n",
       "    <tr>\n",
       "      <th>mean</th>\n",
       "      <td>250.500000</td>\n",
       "      <td>24.966000</td>\n",
       "      <td>7.62600</td>\n",
       "      <td>1.316000</td>\n",
       "      <td>0.012000</td>\n",
       "      <td>0.910000</td>\n",
       "      <td>0.966000</td>\n",
       "      <td>0.026000</td>\n",
       "      <td>0.02200</td>\n",
       "      <td>1.426000</td>\n",
       "      <td>2.352000</td>\n",
       "    </tr>\n",
       "    <tr>\n",
       "      <th>std</th>\n",
       "      <td>144.481833</td>\n",
       "      <td>3.191428</td>\n",
       "      <td>3.12885</td>\n",
       "      <td>1.976856</td>\n",
       "      <td>0.108994</td>\n",
       "      <td>1.274814</td>\n",
       "      <td>1.052168</td>\n",
       "      <td>0.159295</td>\n",
       "      <td>0.14683</td>\n",
       "      <td>1.740858</td>\n",
       "      <td>2.286165</td>\n",
       "    </tr>\n",
       "    <tr>\n",
       "      <th>min</th>\n",
       "      <td>1.000000</td>\n",
       "      <td>16.000000</td>\n",
       "      <td>0.00000</td>\n",
       "      <td>0.000000</td>\n",
       "      <td>0.000000</td>\n",
       "      <td>0.000000</td>\n",
       "      <td>0.000000</td>\n",
       "      <td>0.000000</td>\n",
       "      <td>0.00000</td>\n",
       "      <td>0.000000</td>\n",
       "      <td>0.000000</td>\n",
       "    </tr>\n",
       "    <tr>\n",
       "      <th>25%</th>\n",
       "      <td>125.750000</td>\n",
       "      <td>23.000000</td>\n",
       "      <td>6.00000</td>\n",
       "      <td>0.000000</td>\n",
       "      <td>0.000000</td>\n",
       "      <td>0.000000</td>\n",
       "      <td>0.000000</td>\n",
       "      <td>0.000000</td>\n",
       "      <td>0.00000</td>\n",
       "      <td>0.000000</td>\n",
       "      <td>0.000000</td>\n",
       "    </tr>\n",
       "    <tr>\n",
       "      <th>50%</th>\n",
       "      <td>250.500000</td>\n",
       "      <td>25.000000</td>\n",
       "      <td>8.00000</td>\n",
       "      <td>1.000000</td>\n",
       "      <td>0.000000</td>\n",
       "      <td>0.000000</td>\n",
       "      <td>1.000000</td>\n",
       "      <td>0.000000</td>\n",
       "      <td>0.00000</td>\n",
       "      <td>1.000000</td>\n",
       "      <td>2.000000</td>\n",
       "    </tr>\n",
       "    <tr>\n",
       "      <th>75%</th>\n",
       "      <td>375.250000</td>\n",
       "      <td>27.000000</td>\n",
       "      <td>10.00000</td>\n",
       "      <td>2.000000</td>\n",
       "      <td>0.000000</td>\n",
       "      <td>1.000000</td>\n",
       "      <td>1.000000</td>\n",
       "      <td>0.000000</td>\n",
       "      <td>0.00000</td>\n",
       "      <td>2.000000</td>\n",
       "      <td>4.000000</td>\n",
       "    </tr>\n",
       "    <tr>\n",
       "      <th>max</th>\n",
       "      <td>500.000000</td>\n",
       "      <td>36.000000</td>\n",
       "      <td>17.00000</td>\n",
       "      <td>13.000000</td>\n",
       "      <td>1.000000</td>\n",
       "      <td>7.000000</td>\n",
       "      <td>6.000000</td>\n",
       "      <td>1.000000</td>\n",
       "      <td>1.00000</td>\n",
       "      <td>9.000000</td>\n",
       "      <td>15.000000</td>\n",
       "    </tr>\n",
       "  </tbody>\n",
       "</table>\n",
       "</div>"
      ],
      "text/plain": [
       "                #         Age    Matches       Goals   Own goals     Assists  \\\n",
       "count  500.000000  500.000000  500.00000  500.000000  500.000000  500.000000   \n",
       "mean   250.500000   24.966000    7.62600    1.316000    0.012000    0.910000   \n",
       "std    144.481833    3.191428    3.12885    1.976856    0.108994    1.274814   \n",
       "min      1.000000   16.000000    0.00000    0.000000    0.000000    0.000000   \n",
       "25%    125.750000   23.000000    6.00000    0.000000    0.000000    0.000000   \n",
       "50%    250.500000   25.000000    8.00000    1.000000    0.000000    0.000000   \n",
       "75%    375.250000   27.000000   10.00000    2.000000    0.000000    1.000000   \n",
       "max    500.000000   36.000000   17.00000   13.000000    1.000000    7.000000   \n",
       "\n",
       "       Yellow cards  Yellow red cards  Red cards  Substitutions on  \\\n",
       "count    500.000000        500.000000  500.00000        500.000000   \n",
       "mean       0.966000          0.026000    0.02200          1.426000   \n",
       "std        1.052168          0.159295    0.14683          1.740858   \n",
       "min        0.000000          0.000000    0.00000          0.000000   \n",
       "25%        0.000000          0.000000    0.00000          0.000000   \n",
       "50%        1.000000          0.000000    0.00000          1.000000   \n",
       "75%        1.000000          0.000000    0.00000          2.000000   \n",
       "max        6.000000          1.000000    1.00000          9.000000   \n",
       "\n",
       "       Substitutions off  \n",
       "count         500.000000  \n",
       "mean            2.352000  \n",
       "std             2.286165  \n",
       "min             0.000000  \n",
       "25%             0.000000  \n",
       "50%             2.000000  \n",
       "75%             4.000000  \n",
       "max            15.000000  "
      ]
     },
     "execution_count": 138,
     "metadata": {},
     "output_type": "execute_result"
    }
   ],
   "source": [
    "\n",
    "result_dict={}\n",
    "\n",
    "for col in df.columns:\n",
    "\n",
    "    col_series=df[col]\n",
    "    \n",
    "    if pd.api.types.is_numeric_dtype(col_series):\n",
    "        #print(col_series)\n",
    "    \n",
    "        col_dict={'count':col_series.count(),\n",
    "                  'mean':col_series.mean(),\n",
    "                  'std':col_series.std(),\n",
    "                  'min':col_series.min(),\n",
    "                  '25%':col_series.quantile(0.25),\n",
    "                  '50%':col_series.quantile(0.5),\n",
    "                  '75%':col_series.quantile(0.75),\n",
    "                  'max':col_series.max()}\n",
    "        \n",
    "        result_dict[col]=col_dict\n",
    "    \n",
    "df_discribe=pd.DataFrame(result_dict)\n",
    "\n",
    "df_discribe\n",
    "\n",
    "\n",
    "\n",
    "\n"
   ]
  },
  {
   "cell_type": "code",
   "execution_count": 145,
   "metadata": {},
   "outputs": [
    {
     "data": {
      "text/html": [
       "<div>\n",
       "<style scoped>\n",
       "    .dataframe tbody tr th:only-of-type {\n",
       "        vertical-align: middle;\n",
       "    }\n",
       "\n",
       "    .dataframe tbody tr th {\n",
       "        vertical-align: top;\n",
       "    }\n",
       "\n",
       "    .dataframe thead th {\n",
       "        text-align: right;\n",
       "    }\n",
       "</style>\n",
       "<table border=\"1\" class=\"dataframe\">\n",
       "  <thead>\n",
       "    <tr style=\"text-align: right;\">\n",
       "      <th></th>\n",
       "      <th>#</th>\n",
       "      <th>Age</th>\n",
       "      <th>Matches</th>\n",
       "      <th>Goals</th>\n",
       "      <th>Own goals</th>\n",
       "      <th>Assists</th>\n",
       "      <th>Yellow cards</th>\n",
       "      <th>Yellow red cards</th>\n",
       "      <th>Red cards</th>\n",
       "      <th>Substitutions on</th>\n",
       "      <th>Substitutions off</th>\n",
       "    </tr>\n",
       "  </thead>\n",
       "  <tbody>\n",
       "    <tr>\n",
       "      <th>count</th>\n",
       "      <td>500.000000</td>\n",
       "      <td>500.000000</td>\n",
       "      <td>500.00000</td>\n",
       "      <td>500.000000</td>\n",
       "      <td>500.000000</td>\n",
       "      <td>500.000000</td>\n",
       "      <td>500.000000</td>\n",
       "      <td>500.000000</td>\n",
       "      <td>500.00000</td>\n",
       "      <td>500.000000</td>\n",
       "      <td>500.000000</td>\n",
       "    </tr>\n",
       "    <tr>\n",
       "      <th>mean</th>\n",
       "      <td>250.500000</td>\n",
       "      <td>24.966000</td>\n",
       "      <td>7.62600</td>\n",
       "      <td>1.316000</td>\n",
       "      <td>0.012000</td>\n",
       "      <td>0.910000</td>\n",
       "      <td>0.966000</td>\n",
       "      <td>0.026000</td>\n",
       "      <td>0.02200</td>\n",
       "      <td>1.426000</td>\n",
       "      <td>2.352000</td>\n",
       "    </tr>\n",
       "    <tr>\n",
       "      <th>std</th>\n",
       "      <td>144.481833</td>\n",
       "      <td>3.191428</td>\n",
       "      <td>3.12885</td>\n",
       "      <td>1.976856</td>\n",
       "      <td>0.108994</td>\n",
       "      <td>1.274814</td>\n",
       "      <td>1.052168</td>\n",
       "      <td>0.159295</td>\n",
       "      <td>0.14683</td>\n",
       "      <td>1.740858</td>\n",
       "      <td>2.286165</td>\n",
       "    </tr>\n",
       "    <tr>\n",
       "      <th>min</th>\n",
       "      <td>1.000000</td>\n",
       "      <td>16.000000</td>\n",
       "      <td>0.00000</td>\n",
       "      <td>0.000000</td>\n",
       "      <td>0.000000</td>\n",
       "      <td>0.000000</td>\n",
       "      <td>0.000000</td>\n",
       "      <td>0.000000</td>\n",
       "      <td>0.00000</td>\n",
       "      <td>0.000000</td>\n",
       "      <td>0.000000</td>\n",
       "    </tr>\n",
       "    <tr>\n",
       "      <th>25%</th>\n",
       "      <td>125.750000</td>\n",
       "      <td>23.000000</td>\n",
       "      <td>6.00000</td>\n",
       "      <td>0.000000</td>\n",
       "      <td>0.000000</td>\n",
       "      <td>0.000000</td>\n",
       "      <td>0.000000</td>\n",
       "      <td>0.000000</td>\n",
       "      <td>0.00000</td>\n",
       "      <td>0.000000</td>\n",
       "      <td>0.000000</td>\n",
       "    </tr>\n",
       "    <tr>\n",
       "      <th>50%</th>\n",
       "      <td>250.500000</td>\n",
       "      <td>25.000000</td>\n",
       "      <td>8.00000</td>\n",
       "      <td>1.000000</td>\n",
       "      <td>0.000000</td>\n",
       "      <td>0.000000</td>\n",
       "      <td>1.000000</td>\n",
       "      <td>0.000000</td>\n",
       "      <td>0.00000</td>\n",
       "      <td>1.000000</td>\n",
       "      <td>2.000000</td>\n",
       "    </tr>\n",
       "    <tr>\n",
       "      <th>75%</th>\n",
       "      <td>375.250000</td>\n",
       "      <td>27.000000</td>\n",
       "      <td>10.00000</td>\n",
       "      <td>2.000000</td>\n",
       "      <td>0.000000</td>\n",
       "      <td>1.000000</td>\n",
       "      <td>1.000000</td>\n",
       "      <td>0.000000</td>\n",
       "      <td>0.00000</td>\n",
       "      <td>2.000000</td>\n",
       "      <td>4.000000</td>\n",
       "    </tr>\n",
       "    <tr>\n",
       "      <th>max</th>\n",
       "      <td>500.000000</td>\n",
       "      <td>36.000000</td>\n",
       "      <td>17.00000</td>\n",
       "      <td>13.000000</td>\n",
       "      <td>1.000000</td>\n",
       "      <td>7.000000</td>\n",
       "      <td>6.000000</td>\n",
       "      <td>1.000000</td>\n",
       "      <td>1.00000</td>\n",
       "      <td>9.000000</td>\n",
       "      <td>15.000000</td>\n",
       "    </tr>\n",
       "  </tbody>\n",
       "</table>\n",
       "</div>"
      ],
      "text/plain": [
       "                #         Age    Matches       Goals   Own goals     Assists  \\\n",
       "count  500.000000  500.000000  500.00000  500.000000  500.000000  500.000000   \n",
       "mean   250.500000   24.966000    7.62600    1.316000    0.012000    0.910000   \n",
       "std    144.481833    3.191428    3.12885    1.976856    0.108994    1.274814   \n",
       "min      1.000000   16.000000    0.00000    0.000000    0.000000    0.000000   \n",
       "25%    125.750000   23.000000    6.00000    0.000000    0.000000    0.000000   \n",
       "50%    250.500000   25.000000    8.00000    1.000000    0.000000    0.000000   \n",
       "75%    375.250000   27.000000   10.00000    2.000000    0.000000    1.000000   \n",
       "max    500.000000   36.000000   17.00000   13.000000    1.000000    7.000000   \n",
       "\n",
       "       Yellow cards  Yellow red cards  Red cards  Substitutions on  \\\n",
       "count    500.000000        500.000000  500.00000        500.000000   \n",
       "mean       0.966000          0.026000    0.02200          1.426000   \n",
       "std        1.052168          0.159295    0.14683          1.740858   \n",
       "min        0.000000          0.000000    0.00000          0.000000   \n",
       "25%        0.000000          0.000000    0.00000          0.000000   \n",
       "50%        1.000000          0.000000    0.00000          1.000000   \n",
       "75%        1.000000          0.000000    0.00000          2.000000   \n",
       "max        6.000000          1.000000    1.00000          9.000000   \n",
       "\n",
       "       Substitutions off  \n",
       "count         500.000000  \n",
       "mean            2.352000  \n",
       "std             2.286165  \n",
       "min             0.000000  \n",
       "25%             0.000000  \n",
       "50%             2.000000  \n",
       "75%             4.000000  \n",
       "max            15.000000  "
      ]
     },
     "execution_count": 145,
     "metadata": {},
     "output_type": "execute_result"
    }
   ],
   "source": [
    "result_dict={'count':df.count(numeric_only=True),\n",
    "                  'mean':df.mean(numeric_only=True),\n",
    "                  'std':df.std(numeric_only=True),\n",
    "                  'min':df.min(numeric_only=True),\n",
    "                  '25%':df.quantile(0.25,numeric_only=True),\n",
    "                  '50%':df.quantile(0.5,numeric_only=True),\n",
    "                  '75%':df.quantile(0.75,numeric_only=True),\n",
    "                  'max':df.max(numeric_only=True)}\n",
    "df_discribe=pd.DataFrame(result_dict,index=df.select_dtypes([np.number]).columns).transpose()\n",
    "#df_discribe=pd.DataFrame.from_dict(result_dict,orient='index',columns=df.select_dtypes([np.number]).columns)\n",
    "\n",
    "df_discribe"
   ]
  },
  {
   "cell_type": "markdown",
   "metadata": {},
   "source": [
    "## Pandas Series Object <a id=series>\n",
    "[Back to Content Overview](#ov)\n",
    "\n",
    "Every column of a dataframe is a Pandas Series Object."
   ]
  },
  {
   "cell_type": "code",
   "execution_count": 146,
   "metadata": {},
   "outputs": [
    {
     "name": "stdout",
     "output_type": "stream",
     "text": [
      "0      22\n",
      "1      21\n",
      "2      28\n",
      "3      26\n",
      "4      29\n",
      "       ..\n",
      "495    23\n",
      "496    27\n",
      "497    26\n",
      "498    23\n",
      "499    27\n",
      "Name: Age, Length: 500, dtype: int64\n"
     ]
    }
   ],
   "source": [
    "print(df['Age'])"
   ]
  },
  {
   "cell_type": "code",
   "execution_count": 147,
   "metadata": {},
   "outputs": [
    {
     "name": "stdout",
     "output_type": "stream",
     "text": [
      "<class 'pandas.core.series.Series'>\n"
     ]
    }
   ],
   "source": [
    "print(type(df['Age']))"
   ]
  },
  {
   "cell_type": "markdown",
   "metadata": {},
   "source": [
    "You can also define them manually:"
   ]
  },
  {
   "cell_type": "code",
   "execution_count": 148,
   "metadata": {},
   "outputs": [
    {
     "name": "stdout",
     "output_type": "stream",
     "text": [
      "0      3\n",
      "1      4\n",
      "2      5\n",
      "3      6\n",
      "4      7\n",
      "5      8\n",
      "6      9\n",
      "7     10\n",
      "8     11\n",
      "9     12\n",
      "10    13\n",
      "11    14\n",
      "12    15\n",
      "dtype: int64\n"
     ]
    }
   ],
   "source": [
    "test_series = pd.Series(range(3,16))\n",
    "print(test_series)"
   ]
  },
  {
   "cell_type": "code",
   "execution_count": 149,
   "metadata": {},
   "outputs": [
    {
     "name": "stdout",
     "output_type": "stream",
     "text": [
      "0      3\n",
      "1      4\n",
      "2      5\n",
      "3      6\n",
      "4      7\n",
      "5      8\n",
      "6      9\n",
      "7     10\n",
      "8     11\n",
      "9     12\n",
      "10    13\n",
      "11    14\n",
      "12    15\n",
      "Name: Magic Series, dtype: int64\n"
     ]
    }
   ],
   "source": [
    "# You also give them a name:\n",
    "test_series.name = 'Magic Series'\n",
    "print(test_series)"
   ]
  },
  {
   "cell_type": "markdown",
   "metadata": {},
   "source": [
    "Series have some specifc functions ..."
   ]
  },
  {
   "cell_type": "code",
   "execution_count": 150,
   "metadata": {},
   "outputs": [
    {
     "name": "stdout",
     "output_type": "stream",
     "text": [
      "117\n",
      "9.0\n",
      "3     1\n",
      "4     1\n",
      "5     1\n",
      "6     1\n",
      "7     1\n",
      "8     1\n",
      "9     1\n",
      "10    1\n",
      "11    1\n",
      "12    1\n",
      "13    1\n",
      "14    1\n",
      "15    1\n",
      "Name: Magic Series, dtype: int64\n"
     ]
    }
   ],
   "source": [
    "print(test_series.sum())\n",
    "print(test_series.mean())\n",
    "print(test_series.value_counts())"
   ]
  },
  {
   "cell_type": "markdown",
   "metadata": {},
   "source": [
    "... but you can also tread them as numpy vectors and apply every numpy function on them:"
   ]
  },
  {
   "cell_type": "code",
   "execution_count": 151,
   "metadata": {},
   "outputs": [
    {
     "name": "stdout",
     "output_type": "stream",
     "text": [
      "117\n",
      "110\n"
     ]
    }
   ],
   "source": [
    "print(np.sum(test_series))\n",
    "print(np.sum(test_series[test_series**2>20]))"
   ]
  },
  {
   "cell_type": "code",
   "execution_count": 152,
   "metadata": {},
   "outputs": [
    {
     "name": "stdout",
     "output_type": "stream",
     "text": [
      "    #           Player            Position  Age Market value  Matches  Goals  \\\n",
      "0   1    Kylian Mbappé      Centre-Forward   22    €160.00m        11      4   \n",
      "1   2   Erling Haaland      Centre-Forward   21    €150.00m         8     11   \n",
      "2   3       Harry Kane      Centre-Forward   28    €120.00m        10      6   \n",
      "3   4    Jack Grealish         Left Winger   26    €100.00m        10      2   \n",
      "4   5    Mohamed Salah        Right Winger   29    €100.00m         9      9   \n",
      "5   6    Romelu Lukaku      Centre-Forward   28    €100.00m         9      4   \n",
      "6   7  Kevin De Bruyne  Attacking Midfield   30    €100.00m         7      2   \n",
      "7   8           Neymar         Left Winger   29    €100.00m         7      1   \n",
      "8   9     Jadon Sancho         Left Winger   21     €90.00m         9      0   \n",
      "9  10  Frenkie de Jong    Central Midfield   24     €90.00m         8      0   \n",
      "\n",
      "   Own goals  Assists  Yellow cards  Yellow red cards  Red cards  \\\n",
      "0          0        5             2                 0          0   \n",
      "1          0        4             1                 0          0   \n",
      "2          0        0             2                 0          0   \n",
      "3          0        2             1                 0          0   \n",
      "4          0        3             1                 0          0   \n",
      "5          0        0             0                 0          0   \n",
      "6          0        0             1                 0          0   \n",
      "7          0        2             1                 0          0   \n",
      "8          0        0             0                 0          0   \n",
      "9          0        2             0                 1          0   \n",
      "\n",
      "   Substitutions on  Substitutions off  Scorer Points  \n",
      "0                 0                  5              9  \n",
      "1                 0                  1             15  \n",
      "2                 2                  2              6  \n",
      "3                 1                  5              4  \n",
      "4                 0                  2             12  \n",
      "5                 1                  0              4  \n",
      "6                 2                  2              2  \n",
      "7                 0                  2              3  \n",
      "8                 4                  4              0  \n",
      "9                 0                  1              2  \n"
     ]
    }
   ],
   "source": [
    "# Add the new column to the dataframe\n",
    "df['Scorer Points']=df['Goals']+df['Assists']\n",
    "print(df.head(10))"
   ]
  },
  {
   "cell_type": "markdown",
   "metadata": {},
   "source": [
    "<span style=\"color:blue\"><b>Task:</b></span> Add a new column with goals per game to the df!"
   ]
  },
  {
   "cell_type": "code",
   "execution_count": 155,
   "metadata": {},
   "outputs": [
    {
     "name": "stdout",
     "output_type": "stream",
     "text": [
      "0      0.363636\n",
      "1      1.375000\n",
      "2      0.600000\n",
      "3      0.200000\n",
      "4      1.000000\n",
      "         ...   \n",
      "495    0.000000\n",
      "496         NaN\n",
      "497    0.000000\n",
      "498    0.000000\n",
      "499    0.000000\n",
      "Name: Goals_per_Game, Length: 500, dtype: float64\n",
      "0      0.363636\n",
      "1      1.375000\n",
      "2      0.600000\n",
      "3      0.200000\n",
      "4      1.000000\n",
      "         ...   \n",
      "495    0.000000\n",
      "496    0.000000\n",
      "497    0.000000\n",
      "498    0.000000\n",
      "499    0.000000\n",
      "Name: Goals_per_Game, Length: 500, dtype: float64\n"
     ]
    }
   ],
   "source": [
    "df['Goals_per_Game']=df['Goals']/df['Matches']\n",
    "print(df['Goals_per_Game'])\n",
    "df['Goals_per_Game']=np.where(df['Matches']==0,0,df['Goals']/df['Matches'])\n",
    "print(df['Goals_per_Game'])"
   ]
  },
  {
   "cell_type": "markdown",
   "metadata": {},
   "source": [
    "You can also apply list comprehensions on series objects:"
   ]
  },
  {
   "cell_type": "code",
   "execution_count": 168,
   "metadata": {},
   "outputs": [
    {
     "name": "stdout",
     "output_type": "stream",
     "text": [
      "Player\n",
      "Kylian Mbappé       Mbappé\n",
      "Erling Haaland     Haaland\n",
      "Harry Kane            Kane\n",
      "Jack Grealish     Grealish\n",
      "Mohamed Salah        Salah\n",
      "                    ...   \n",
      "Tom Davies          Davies\n",
      "Hans Hateboer     Hateboer\n",
      "David Raya            Raya\n",
      "Gregor Kobel         Kobel\n",
      "Wilmar Barrios     Barrios\n",
      "Name: Last Name, Length: 500, dtype: object\n"
     ]
    }
   ],
   "source": [
    "df['Last Name']= [name.split(' ')[-1] for name in df['Player']]\n",
    "print(df['Last Name'])"
   ]
  },
  {
   "cell_type": "markdown",
   "metadata": {},
   "source": [
    "<span style=\"color:blue\"><b>Task:</b></span> Convert the market value to a type float:"
   ]
  },
  {
   "cell_type": "code",
   "execution_count": 162,
   "metadata": {},
   "outputs": [
    {
     "name": "stdout",
     "output_type": "stream",
     "text": [
      "0      €160.00m \n",
      "1      €150.00m \n",
      "2      €120.00m \n",
      "3      €100.00m \n",
      "4      €100.00m \n",
      "         ...    \n",
      "495     €18.00m \n",
      "496     €18.00m \n",
      "497     €18.00m \n",
      "498     €18.00m \n",
      "499     €18.00m \n",
      "Name: Market value, Length: 500, dtype: object\n",
      "0      160.0\n",
      "1      150.0\n",
      "2      120.0\n",
      "3      100.0\n",
      "4      100.0\n",
      "       ...  \n",
      "495     18.0\n",
      "496     18.0\n",
      "497     18.0\n",
      "498     18.0\n",
      "499     18.0\n",
      "Name: Market_value, Length: 500, dtype: float64\n"
     ]
    }
   ],
   "source": [
    "print(df['Market value'])\n",
    "df['Market_value']= [float(str(value).replace('€','').replace('m','')) for value in df['Market value']]\n",
    "\n",
    "print(df['Market_value'])"
   ]
  },
  {
   "cell_type": "code",
   "execution_count": 160,
   "metadata": {},
   "outputs": [
    {
     "name": "stdout",
     "output_type": "stream",
     "text": [
      "0      160.0\n",
      "1      150.0\n",
      "2      120.0\n",
      "3      100.0\n",
      "4      100.0\n",
      "       ...  \n",
      "495     18.0\n",
      "496     18.0\n",
      "497     18.0\n",
      "498     18.0\n",
      "499     18.0\n",
      "Name: Market_value, Length: 500, dtype: float64\n"
     ]
    }
   ],
   "source": [
    "df['Market_value'] =[float(str(value)[1:-2]) for value in df['Market value']]\n",
    "print(df['Market_value'])"
   ]
  },
  {
   "cell_type": "markdown",
   "metadata": {},
   "source": [
    "## Indexing and filtering <a id=filter>\n",
    "[Back to Content Overview](#ov)"
   ]
  },
  {
   "cell_type": "code",
   "execution_count": 166,
   "metadata": {},
   "outputs": [
    {
     "name": "stdout",
     "output_type": "stream",
     "text": [
      "                  #          Player            Position  Age Market value  \\\n",
      "Player                                                                      \n",
      "Kylian Mbappé     1   Kylian Mbappé      Centre-Forward   22    €160.00m    \n",
      "Erling Haaland    2  Erling Haaland      Centre-Forward   21    €150.00m    \n",
      "Harry Kane        3      Harry Kane      Centre-Forward   28    €120.00m    \n",
      "Jack Grealish     4   Jack Grealish         Left Winger   26    €100.00m    \n",
      "Mohamed Salah     5   Mohamed Salah        Right Winger   29    €100.00m    \n",
      "...             ...             ...                 ...  ...          ...   \n",
      "Tom Davies      496      Tom Davies    Central Midfield   23     €18.00m    \n",
      "Hans Hateboer   497   Hans Hateboer          Right-Back   27     €18.00m    \n",
      "David Raya      498      David Raya          Goalkeeper   26     €18.00m    \n",
      "Gregor Kobel    499    Gregor Kobel          Goalkeeper   23     €18.00m    \n",
      "Wilmar Barrios  500  Wilmar Barrios  Defensive Midfield   27     €18.00m    \n",
      "\n",
      "                Matches  Goals  Own goals  Assists  Yellow cards  \\\n",
      "Player                                                             \n",
      "Kylian Mbappé        11      4          0        5             2   \n",
      "Erling Haaland        8     11          0        4             1   \n",
      "Harry Kane           10      6          0        0             2   \n",
      "Jack Grealish        10      2          0        2             1   \n",
      "Mohamed Salah         9      9          0        3             1   \n",
      "...                 ...    ...        ...      ...           ...   \n",
      "Tom Davies            5      0          0        1             0   \n",
      "Hans Hateboer         0      0          0        0             0   \n",
      "David Raya            7      0          0        0             0   \n",
      "Gregor Kobel         12      0          0        0             0   \n",
      "Wilmar Barrios       10      0          0        0             0   \n",
      "\n",
      "                Yellow red cards  Red cards  Substitutions on  \\\n",
      "Player                                                          \n",
      "Kylian Mbappé                  0          0                 0   \n",
      "Erling Haaland                 0          0                 0   \n",
      "Harry Kane                     0          0                 2   \n",
      "Jack Grealish                  0          0                 1   \n",
      "Mohamed Salah                  0          0                 0   \n",
      "...                          ...        ...               ...   \n",
      "Tom Davies                     0          0                 3   \n",
      "Hans Hateboer                  0          0                 0   \n",
      "David Raya                     0          0                 0   \n",
      "Gregor Kobel                   0          0                 0   \n",
      "Wilmar Barrios                 0          0                 0   \n",
      "\n",
      "                Substitutions off  Market_value  \n",
      "Player                                           \n",
      "Kylian Mbappé                   5         160.0  \n",
      "Erling Haaland                  1         150.0  \n",
      "Harry Kane                      2         120.0  \n",
      "Jack Grealish                   5         100.0  \n",
      "Mohamed Salah                   2         100.0  \n",
      "...                           ...           ...  \n",
      "Tom Davies                      1          18.0  \n",
      "Hans Hateboer                   0          18.0  \n",
      "David Raya                      0          18.0  \n",
      "Gregor Kobel                    0          18.0  \n",
      "Wilmar Barrios                  2          18.0  \n",
      "\n",
      "[500 rows x 15 columns]\n"
     ]
    }
   ],
   "source": [
    "df.index=df['Player']\n",
    "print(df)"
   ]
  },
  {
   "cell_type": "markdown",
   "metadata": {},
   "source": [
    "<span style=\"color:blue\"><b>Task:</b></span> Restore the old index."
   ]
  },
  {
   "cell_type": "code",
   "execution_count": 178,
   "metadata": {},
   "outputs": [
    {
     "name": "stdout",
     "output_type": "stream",
     "text": [
      "       #          Player            Position  Age Market value  Matches  \\\n",
      "0      1   Kylian Mbappé      Centre-Forward   22    €160.00m        11   \n",
      "1      2  Erling Haaland      Centre-Forward   21    €150.00m         8   \n",
      "2      3      Harry Kane      Centre-Forward   28    €120.00m        10   \n",
      "3      4   Jack Grealish         Left Winger   26    €100.00m        10   \n",
      "4      5   Mohamed Salah        Right Winger   29    €100.00m         9   \n",
      "..   ...             ...                 ...  ...          ...      ...   \n",
      "495  496      Tom Davies    Central Midfield   23     €18.00m         5   \n",
      "496  497   Hans Hateboer          Right-Back   27     €18.00m         0   \n",
      "497  498      David Raya          Goalkeeper   26     €18.00m         7   \n",
      "498  499    Gregor Kobel          Goalkeeper   23     €18.00m        12   \n",
      "499  500  Wilmar Barrios  Defensive Midfield   27     €18.00m        10   \n",
      "\n",
      "     Goals  Own goals  Assists  Yellow cards  Yellow red cards  Red cards  \\\n",
      "0        4          0        5             2                 0          0   \n",
      "1       11          0        4             1                 0          0   \n",
      "2        6          0        0             2                 0          0   \n",
      "3        2          0        2             1                 0          0   \n",
      "4        9          0        3             1                 0          0   \n",
      "..     ...        ...      ...           ...               ...        ...   \n",
      "495      0          0        1             0                 0          0   \n",
      "496      0          0        0             0                 0          0   \n",
      "497      0          0        0             0                 0          0   \n",
      "498      0          0        0             0                 0          0   \n",
      "499      0          0        0             0                 0          0   \n",
      "\n",
      "     Substitutions on  Substitutions off  Market_value Last Name  \n",
      "0                   0                  5         160.0    Mbappé  \n",
      "1                   0                  1         150.0   Haaland  \n",
      "2                   2                  2         120.0      Kane  \n",
      "3                   1                  5         100.0  Grealish  \n",
      "4                   0                  2         100.0     Salah  \n",
      "..                ...                ...           ...       ...  \n",
      "495                 3                  1          18.0    Davies  \n",
      "496                 0                  0          18.0  Hateboer  \n",
      "497                 0                  0          18.0      Raya  \n",
      "498                 0                  0          18.0     Kobel  \n",
      "499                 0                  2          18.0   Barrios  \n",
      "\n",
      "[500 rows x 16 columns]\n"
     ]
    }
   ],
   "source": [
    "df.index=range(len(df))\n",
    "print(df)"
   ]
  },
  {
   "cell_type": "code",
   "execution_count": 169,
   "metadata": {},
   "outputs": [
    {
     "name": "stdout",
     "output_type": "stream",
     "text": [
      "Player\n",
      "Kylian Mbappé       Mbappé\n",
      "Erling Haaland     Haaland\n",
      "Harry Kane            Kane\n",
      "Jack Grealish     Grealish\n",
      "Mohamed Salah        Salah\n",
      "                    ...   \n",
      "Tom Davies          Davies\n",
      "Hans Hateboer     Hateboer\n",
      "David Raya            Raya\n",
      "Gregor Kobel         Kobel\n",
      "Wilmar Barrios     Barrios\n",
      "Name: Last Name, Length: 500, dtype: object\n",
      "Grealish\n"
     ]
    }
   ],
   "source": [
    "# Query Columns with brackets and Column Name\n",
    "print(df['Last Name'])\n",
    "# Query a element with  Column Name and vector index\n",
    "print(df['Last Name'][3])"
   ]
  },
  {
   "cell_type": "markdown",
   "metadata": {},
   "source": [
    "### loc\n",
    "Use loc to get elements with their row and column names:"
   ]
  },
  {
   "cell_type": "code",
   "execution_count": 170,
   "metadata": {},
   "outputs": [
    {
     "data": {
      "text/plain": [
       "#                                5\n",
       "Player               Mohamed Salah\n",
       "Position              Right Winger\n",
       "Age                             29\n",
       "Market value             €100.00m \n",
       "Matches                          9\n",
       "Goals                            9\n",
       "Own goals                        0\n",
       "Assists                          3\n",
       "Yellow cards                     1\n",
       "Yellow red cards                 0\n",
       "Red cards                        0\n",
       "Substitutions on                 0\n",
       "Substitutions off                2\n",
       "Market_value                 100.0\n",
       "Last Name                    Salah\n",
       "Name: Mohamed Salah, dtype: object"
      ]
     },
     "execution_count": 170,
     "metadata": {},
     "output_type": "execute_result"
    }
   ],
   "source": [
    "# Get values for Salah\n",
    "df.loc['Mohamed Salah',:]"
   ]
  },
  {
   "cell_type": "markdown",
   "metadata": {},
   "source": [
    "<span style=\"color:blue\"><b>Task:</b></span> Get Salahs Age:"
   ]
  },
  {
   "cell_type": "code",
   "execution_count": 171,
   "metadata": {},
   "outputs": [
    {
     "data": {
      "text/plain": [
       "29"
      ]
     },
     "execution_count": 171,
     "metadata": {},
     "output_type": "execute_result"
    }
   ],
   "source": [
    "df.loc['Mohamed Salah','Age']"
   ]
  },
  {
   "cell_type": "markdown",
   "metadata": {},
   "source": [
    "### iloc\n",
    "Use iloc to get elements with their row and column indices:"
   ]
  },
  {
   "cell_type": "code",
   "execution_count": 172,
   "metadata": {},
   "outputs": [
    {
     "data": {
      "text/plain": [
       "#                                 1\n",
       "Player                Kylian Mbappé\n",
       "Position             Centre-Forward\n",
       "Age                              22\n",
       "Market value              €160.00m \n",
       "Matches                          11\n",
       "Goals                             4\n",
       "Own goals                         0\n",
       "Assists                           5\n",
       "Yellow cards                      2\n",
       "Yellow red cards                  0\n",
       "Red cards                         0\n",
       "Substitutions on                  0\n",
       "Substitutions off                 5\n",
       "Market_value                  160.0\n",
       "Last Name                    Mbappé\n",
       "Name: Kylian Mbappé, dtype: object"
      ]
     },
     "execution_count": 172,
     "metadata": {},
     "output_type": "execute_result"
    }
   ],
   "source": [
    "# Get values for most valuable player\n",
    "df.iloc[0,:]"
   ]
  },
  {
   "cell_type": "markdown",
   "metadata": {},
   "source": [
    "<span style=\"color:blue\"><b>Task:</b></span> Get the last column for the ten most valuable players:"
   ]
  },
  {
   "cell_type": "code",
   "execution_count": 180,
   "metadata": {},
   "outputs": [
    {
     "data": {
      "text/plain": [
       "0      Mbappé\n",
       "1     Haaland\n",
       "2        Kane\n",
       "3    Grealish\n",
       "4       Salah\n",
       "5      Lukaku\n",
       "6      Bruyne\n",
       "7      Neymar\n",
       "8      Sancho\n",
       "9        Jong\n",
       "Name: Last Name, dtype: object"
      ]
     },
     "execution_count": 180,
     "metadata": {},
     "output_type": "execute_result"
    }
   ],
   "source": [
    "df.iloc[df['Market_value'].nlargest(10).index.values,-1]\n",
    "\n",
    "df.iloc[:10,-1]"
   ]
  },
  {
   "cell_type": "markdown",
   "metadata": {},
   "source": [
    "### filter\n",
    "\n",
    "You can filter the dataframe with conditions similar to the numpy vectors:"
   ]
  },
  {
   "cell_type": "code",
   "execution_count": 181,
   "metadata": {},
   "outputs": [
    {
     "name": "stdout",
     "output_type": "stream",
     "text": [
      "       #          Player            Position  Age Market value  Matches  \\\n",
      "0      1   Kylian Mbappé      Centre-Forward   22    €160.00m        11   \n",
      "1      2  Erling Haaland      Centre-Forward   21    €150.00m         8   \n",
      "2      3      Harry Kane      Centre-Forward   28    €120.00m        10   \n",
      "3      4   Jack Grealish         Left Winger   26    €100.00m        10   \n",
      "4      5   Mohamed Salah        Right Winger   29    €100.00m         9   \n",
      "..   ...             ...                 ...  ...          ...      ...   \n",
      "494  495     Diego Rossi         Left Winger   23     €18.00m         7   \n",
      "495  496      Tom Davies    Central Midfield   23     €18.00m         5   \n",
      "497  498      David Raya          Goalkeeper   26     €18.00m         7   \n",
      "498  499    Gregor Kobel          Goalkeeper   23     €18.00m        12   \n",
      "499  500  Wilmar Barrios  Defensive Midfield   27     €18.00m        10   \n",
      "\n",
      "     Goals  Own goals  Assists  Yellow cards  Yellow red cards  Red cards  \\\n",
      "0        4          0        5             2                 0          0   \n",
      "1       11          0        4             1                 0          0   \n",
      "2        6          0        0             2                 0          0   \n",
      "3        2          0        2             1                 0          0   \n",
      "4        9          0        3             1                 0          0   \n",
      "..     ...        ...      ...           ...               ...        ...   \n",
      "494      1          0        3             1                 0          0   \n",
      "495      0          0        1             0                 0          0   \n",
      "497      0          0        0             0                 0          0   \n",
      "498      0          0        0             0                 0          0   \n",
      "499      0          0        0             0                 0          0   \n",
      "\n",
      "     Substitutions on  Substitutions off  Market_value Last Name  \n",
      "0                   0                  5         160.0    Mbappé  \n",
      "1                   0                  1         150.0   Haaland  \n",
      "2                   2                  2         120.0      Kane  \n",
      "3                   1                  5         100.0  Grealish  \n",
      "4                   0                  2         100.0     Salah  \n",
      "..                ...                ...           ...       ...  \n",
      "494                 1                  4          18.0     Rossi  \n",
      "495                 3                  1          18.0    Davies  \n",
      "497                 0                  0          18.0      Raya  \n",
      "498                 0                  0          18.0     Kobel  \n",
      "499                 0                  2          18.0   Barrios  \n",
      "\n",
      "[479 rows x 16 columns]\n"
     ]
    }
   ],
   "source": [
    "# Only keep players with had at least one game\n",
    "df_filter=df[df['Matches']>0]\n",
    "print(df_filter)"
   ]
  },
  {
   "cell_type": "code",
   "execution_count": 182,
   "metadata": {},
   "outputs": [
    {
     "name": "stdout",
     "output_type": "stream",
     "text": [
      "     #                  Player            Position  Age  Market value  \\\n",
      "0    1           Kylian Mbappé      Centre-Forward   22         160.0   \n",
      "1    2          Erling Haaland      Centre-Forward   21         150.0   \n",
      "8    9            Jadon Sancho         Left Winger   21          90.0   \n",
      "9   10         Frenkie de Jong    Central Midfield   24          90.0   \n",
      "13  14         Marcus Rashford         Left Winger   23          85.0   \n",
      "16  17                   Pedri    Central Midfield   18          80.0   \n",
      "17  18              João Félix      Second Striker   21          80.0   \n",
      "18  19              Phil Foden    Central Midfield   21          80.0   \n",
      "19  20        Lautaro Martínez      Centre-Forward   24          80.0   \n",
      "22  23             Mason Mount  Attacking Midfield   22          75.0   \n",
      "23  24        Matthijs de Ligt         Centre-Back   22          75.0   \n",
      "24  25  Trent Alexander-Arnold          Right-Back   23          75.0   \n",
      "25  26              Rúben Dias         Centre-Back   24          75.0   \n",
      "27  28         Jude Bellingham    Central Midfield   18          70.0   \n",
      "28  29         Alphonso Davies           Left-Back   20          70.0   \n",
      "29  30           Achraf Hakimi          Right-Back   22          70.0   \n",
      "30  31             Declan Rice  Defensive Midfield   22          70.0   \n",
      "32  33         Mikel Oyarzabal         Left Winger   24          70.0   \n",
      "33  34         Federico Chiesa        Right Winger   23          70.0   \n",
      "34  35             Kai Havertz  Attacking Midfield   22          70.0   \n",
      "42  43           Florian Wirtz  Attacking Midfield   18          65.0   \n",
      "43  44             Bukayo Saka       Left Midfield   20          65.0   \n",
      "44  45       Federico Valverde    Central Midfield   23          65.0   \n",
      "45  46    Gianluigi Donnarumma          Goalkeeper   22          65.0   \n",
      "46  47          Nicolò Barella    Central Midfield   24          65.0   \n",
      "48  49               Ansu Fati         Left Winger   18          60.0   \n",
      "49  50            Jules Koundé         Centre-Back   22          60.0   \n",
      "50  51           Gabriel Jesus      Centre-Forward   24          60.0   \n",
      "51  52         Dayot Upamecano         Centre-Back   22          60.0   \n",
      "52  53      Alessandro Bastoni         Centre-Back   22          60.0   \n",
      "53  54           Wilfred Ndidi  Defensive Midfield   24          60.0   \n",
      "65  66       Eduardo Camavinga    Central Midfield   18          55.0   \n",
      "66  67             Richarlison      Centre-Forward   24          55.0   \n",
      "67  68           Franck Kessié    Central Midfield   24          55.0   \n",
      "68  69         Youri Tielemans    Central Midfield   24          55.0   \n",
      "\n",
      "    Matches  Goals  Own goals  Assists  Yellow cards  Yellow red cards  \\\n",
      "0        11      4          0        5             2                 0   \n",
      "1         8     11          0        4             1                 0   \n",
      "8         9      0          0        0             0                 0   \n",
      "9         8      0          0        2             0                 1   \n",
      "13        0      0          0        0             0                 0   \n",
      "16        5      0          0        0             0                 0   \n",
      "17        5      0          0        0             2                 1   \n",
      "18        6      2          0        2             0                 0   \n",
      "19        8      5          0        0             2                 0   \n",
      "22        8      0          0        1             0                 0   \n",
      "23        8      1          0        0             1                 0   \n",
      "24        6      0          0        3             0                 0   \n",
      "25       11      0          0        2             3                 0   \n",
      "27       11      2          0        5             2                 0   \n",
      "28       10      0          0        3             1                 0   \n",
      "29       12      3          0        2             1                 0   \n",
      "30        9      2          0        2             3                 0   \n",
      "32       11      6          0        1             1                 0   \n",
      "33        7      2          0        1             0                 0   \n",
      "34        9      1          0        1             0                 0   \n",
      "42        8      6          0        5             1                 0   \n",
      "43        9      2          0        1             0                 0   \n",
      "44       10      0          0        1             0                 0   \n",
      "45        4      0          0        0             1                 0   \n",
      "46        9      1          0        5             2                 0   \n",
      "48        3      1          0        0             0                 0   \n",
      "49        8      0          0        0             0                 0   \n",
      "50        9      3          0        4             0                 0   \n",
      "51        9      0          0        0             2                 0   \n",
      "52        8      0          0        0             1                 0   \n",
      "53        9      0          0        0             1                 1   \n",
      "65       15      2          0        1             4                 0   \n",
      "66        4      1          0        1             2                 0   \n",
      "67        7      0          0        0             0                 1   \n",
      "68       11      1          0        2             1                 0   \n",
      "\n",
      "    Red cards  Substitutions on  Substitutions off  Market_value  \\\n",
      "0           0                 0                  5         160.0   \n",
      "1           0                 0                  1         150.0   \n",
      "8           0                 4                  4          90.0   \n",
      "9           0                 0                  1          90.0   \n",
      "13          0                 0                  0          85.0   \n",
      "16          0                 1                  2          80.0   \n",
      "17          0                 3                  2          80.0   \n",
      "18          0                 3                  1          80.0   \n",
      "19          0                 0                  8          80.0   \n",
      "22          0                 3                  3          75.0   \n",
      "23          0                 1                  1          75.0   \n",
      "24          0                 0                  0          75.0   \n",
      "25          0                 1                  0          75.0   \n",
      "27          0                 0                  6          70.0   \n",
      "28          0                 0                  3          70.0   \n",
      "29          0                 1                  1          70.0   \n",
      "30          0                 0                  1          70.0   \n",
      "32          0                 1                  6          70.0   \n",
      "33          0                 2                  5          70.0   \n",
      "34          0                 3                  4          70.0   \n",
      "42          0                 2                  5          65.0   \n",
      "43          0                 2                  4          65.0   \n",
      "44          0                 0                  3          65.0   \n",
      "45          0                 0                  0          65.0   \n",
      "46          0                 0                  4          65.0   \n",
      "48          0                 3                  0          60.0   \n",
      "49          0                 0                  0          60.0   \n",
      "50          0                 3                  3          60.0   \n",
      "51          0                 0                  1          60.0   \n",
      "52          0                 0                  4          60.0   \n",
      "53          0                 0                  0          60.0   \n",
      "65          0                 9                  4          55.0   \n",
      "66          0                 0                  2          55.0   \n",
      "67          0                 1                  3          55.0   \n",
      "68          0                 1                  1          55.0   \n",
      "\n",
      "           Last Name  \n",
      "0             Mbappé  \n",
      "1            Haaland  \n",
      "8             Sancho  \n",
      "9               Jong  \n",
      "13          Rashford  \n",
      "16             Pedri  \n",
      "17             Félix  \n",
      "18             Foden  \n",
      "19          Martínez  \n",
      "22             Mount  \n",
      "23              Ligt  \n",
      "24  Alexander-Arnold  \n",
      "25              Dias  \n",
      "27        Bellingham  \n",
      "28            Davies  \n",
      "29            Hakimi  \n",
      "30              Rice  \n",
      "32         Oyarzabal  \n",
      "33            Chiesa  \n",
      "34           Havertz  \n",
      "42             Wirtz  \n",
      "43              Saka  \n",
      "44          Valverde  \n",
      "45        Donnarumma  \n",
      "46           Barella  \n",
      "48              Fati  \n",
      "49            Koundé  \n",
      "50             Jesus  \n",
      "51         Upamecano  \n",
      "52           Bastoni  \n",
      "53             Ndidi  \n",
      "65         Camavinga  \n",
      "66       Richarlison  \n",
      "67            Kessié  \n",
      "68         Tielemans  \n"
     ]
    }
   ],
   "source": [
    "# Only keep players who are under 25 and have an market values over 50 mio:\n",
    "df['Market value'] = [float(value.replace('€','').replace('m','')) for value in df['Market value']]\n",
    "df_filter=df[(df['Age']<25) & (df['Market value']>50)] # use | for or\n",
    "print(df_filter)"
   ]
  },
  {
   "cell_type": "markdown",
   "metadata": {},
   "source": [
    "You can also use list comprehensions with booleans to takle more complicated conditions:"
   ]
  },
  {
   "cell_type": "markdown",
   "metadata": {},
   "source": [
    "<span style=\"color:blue\"><b>Task:</b></span> Only keep players with a middle name. (Name consists of more than 2 words.)"
   ]
  },
  {
   "cell_type": "code",
   "execution_count": 189,
   "metadata": {},
   "outputs": [
    {
     "name": "stdout",
     "output_type": "stream",
     "text": [
      "       #                 Player            Position  Age  Market value  \\\n",
      "6      7        Kevin De Bruyne  Attacking Midfield   30         100.0   \n",
      "9     10        Frenkie de Jong    Central Midfield   24          90.0   \n",
      "23    24       Matthijs de Ligt         Centre-Back   22          75.0   \n",
      "54    55     José María Giménez         Centre-Back   26          60.0   \n",
      "62    63  Marc-André ter Stegen          Goalkeeper   29          60.0   \n",
      "73    74        Virgil van Dijk         Centre-Back   30          55.0   \n",
      "91    92         Stefan de Vrij         Centre-Back   29          50.0   \n",
      "138  139        Rodrigo de Paul    Central Midfield   27          40.0   \n",
      "187  188      Wissam Ben Yedder      Centre-Forward   31          35.0   \n",
      "245  246       Emile Smith Rowe  Attacking Midfield   21          28.0   \n",
      "275  276   Silas Katompa Mvumpa      Right Midfield   23          25.0   \n",
      "285  286   Charles De Ketelaere      Centre-Forward   20          25.0   \n",
      "295  296   André Zambo Anguissa  Defensive Midfield   25          25.0   \n",
      "304  305      Donny van de Beek    Central Midfield   24          25.0   \n",
      "341  342    Giovanni Di Lorenzo          Right-Back   28          24.0   \n",
      "345  346         Marten de Roon  Defensive Midfield   30          23.0   \n",
      "359  360       Robin Le Normand         Centre-Back   24          22.0   \n",
      "360  361       Giovani Lo Celso    Central Midfield   25          22.0   \n",
      "410  411    Hamed Junior Traorè  Attacking Midfield   21          20.0   \n",
      "464  465         Ángel Di María        Right Winger   33          20.0   \n",
      "472  473        Rayan Aït Nouri           Left-Back   20          18.0   \n",
      "482  483     Nicolás De La Cruz    Central Midfield   24          18.0   \n",
      "\n",
      "     Matches  Goals  Own goals  Assists  Yellow cards  Yellow red cards  \\\n",
      "6          7      2          0        0             1                 0   \n",
      "9          8      0          0        2             0                 1   \n",
      "23         8      1          0        0             1                 0   \n",
      "54         8      0          0        0             3                 0   \n",
      "62         7      0          0        0             0                 0   \n",
      "73         8      0          0        1             0                 0   \n",
      "91         9      0          0        0             0                 0   \n",
      "138        9      0          0        1             2                 0   \n",
      "187       14      7          0        3             0                 0   \n",
      "245        9      2          0        1             0                 0   \n",
      "275        0      0          0        0             0                 0   \n",
      "285       15      4          0        3             3                 0   \n",
      "295       10      0          0        0             1                 0   \n",
      "304        3      0          0        0             0                 0   \n",
      "341        9      0          0        1             3                 0   \n",
      "345        5      0          0        0             2                 0   \n",
      "359        9      0          0        0             3                 0   \n",
      "360        8      1          0        1             0                 0   \n",
      "410        7      1          0        0             0                 0   \n",
      "464        6      1          0        2             1                 0   \n",
      "472        3      0          0        1             0                 0   \n",
      "482       10      4          0        1             1                 0   \n",
      "\n",
      "     Red cards  Substitutions on  Substitutions off  Market_value  Last Name  \n",
      "6            0                 2                  2         100.0     Bruyne  \n",
      "9            0                 0                  1          90.0       Jong  \n",
      "23           0                 1                  1          75.0       Ligt  \n",
      "54           0                 0                  1          60.0    Giménez  \n",
      "62           0                 0                  0          60.0     Stegen  \n",
      "73           0                 0                  0          55.0       Dijk  \n",
      "91           0                 0                  1          50.0       Vrij  \n",
      "138          0                 5                  2          40.0       Paul  \n",
      "187          0                 4                  8          35.0     Yedder  \n",
      "245          0                 2                  2          28.0       Rowe  \n",
      "275          0                 0                  0          25.0     Mvumpa  \n",
      "285          0                 0                  3          25.0  Ketelaere  \n",
      "295          0                 4                  1          25.0   Anguissa  \n",
      "304          0                 1                  1          25.0       Beek  \n",
      "341          0                 0                  0          24.0    Lorenzo  \n",
      "345          0                 0                  1          23.0       Roon  \n",
      "359          0                 0                  1          22.0    Normand  \n",
      "360          0                 3                  2          22.0      Celso  \n",
      "410          0                 6                  1          20.0     Traorè  \n",
      "464          0                 2                  3          20.0      María  \n",
      "472          0                 1                  2          18.0      Nouri  \n",
      "482          0                 2                  2          18.0       Cruz  \n"
     ]
    }
   ],
   "source": [
    "print(df[[len(name.split(' '))>2 for name in df['Player']]])\n",
    "\n",
    "#df_filter=df[]"
   ]
  },
  {
   "cell_type": "markdown",
   "metadata": {},
   "source": [
    "Use ``df.drop_duplicates()`` to delete duplicates from your dataset:"
   ]
  },
  {
   "cell_type": "code",
   "execution_count": 190,
   "metadata": {},
   "outputs": [
    {
     "name": "stdout",
     "output_type": "stream",
     "text": [
      "       #          Player            Position  Age  Market value  Matches  \\\n",
      "0      1   Kylian Mbappé      Centre-Forward   22         160.0       11   \n",
      "1      2  Erling Haaland      Centre-Forward   21         150.0        8   \n",
      "2      3      Harry Kane      Centre-Forward   28         120.0       10   \n",
      "3      4   Jack Grealish         Left Winger   26         100.0       10   \n",
      "4      5   Mohamed Salah        Right Winger   29         100.0        9   \n",
      "..   ...             ...                 ...  ...           ...      ...   \n",
      "495  496      Tom Davies    Central Midfield   23          18.0        5   \n",
      "496  497   Hans Hateboer          Right-Back   27          18.0        0   \n",
      "497  498      David Raya          Goalkeeper   26          18.0        7   \n",
      "498  499    Gregor Kobel          Goalkeeper   23          18.0       12   \n",
      "499  500  Wilmar Barrios  Defensive Midfield   27          18.0       10   \n",
      "\n",
      "     Goals  Own goals  Assists  Yellow cards  Yellow red cards  Red cards  \\\n",
      "0        4          0        5             2                 0          0   \n",
      "1       11          0        4             1                 0          0   \n",
      "2        6          0        0             2                 0          0   \n",
      "3        2          0        2             1                 0          0   \n",
      "4        9          0        3             1                 0          0   \n",
      "..     ...        ...      ...           ...               ...        ...   \n",
      "495      0          0        1             0                 0          0   \n",
      "496      0          0        0             0                 0          0   \n",
      "497      0          0        0             0                 0          0   \n",
      "498      0          0        0             0                 0          0   \n",
      "499      0          0        0             0                 0          0   \n",
      "\n",
      "     Substitutions on  Substitutions off  Market_value Last Name  \n",
      "0                   0                  5         160.0    Mbappé  \n",
      "1                   0                  1         150.0   Haaland  \n",
      "2                   2                  2         120.0      Kane  \n",
      "3                   1                  5         100.0  Grealish  \n",
      "4                   0                  2         100.0     Salah  \n",
      "..                ...                ...           ...       ...  \n",
      "495                 3                  1          18.0    Davies  \n",
      "496                 0                  0          18.0  Hateboer  \n",
      "497                 0                  0          18.0      Raya  \n",
      "498                 0                  0          18.0     Kobel  \n",
      "499                 0                  2          18.0   Barrios  \n",
      "\n",
      "[500 rows x 16 columns]\n"
     ]
    }
   ],
   "source": [
    "print(df.drop_duplicates())"
   ]
  },
  {
   "cell_type": "markdown",
   "metadata": {},
   "source": [
    "<span style=\"color:blue\"><b>Task:</b></span> Only show the player with the highest market value for every age."
   ]
  },
  {
   "cell_type": "code",
   "execution_count": 192,
   "metadata": {},
   "outputs": [
    {
     "name": "stdout",
     "output_type": "stream",
     "text": [
      "       #              Player            Position  Age  Market value  Matches  \\\n",
      "0      1       Kylian Mbappé      Centre-Forward   22         160.0       11   \n",
      "1      2      Erling Haaland      Centre-Forward   21         150.0        8   \n",
      "2      3          Harry Kane      Centre-Forward   28         120.0       10   \n",
      "3      4       Jack Grealish         Left Winger   26         100.0       10   \n",
      "4      5       Mohamed Salah        Right Winger   29         100.0        9   \n",
      "6      7     Kevin De Bruyne  Attacking Midfield   30         100.0        7   \n",
      "9     10     Frenkie de Jong    Central Midfield   24          90.0        8   \n",
      "10    11     Bruno Fernandes  Attacking Midfield   27          90.0       11   \n",
      "13    14     Marcus Rashford         Left Winger   23          85.0        0   \n",
      "16    17               Pedri    Central Midfield   18          80.0        5   \n",
      "21    22        Lionel Messi        Right Winger   34          80.0        5   \n",
      "28    29     Alphonso Davies           Left-Back   20          70.0       10   \n",
      "31    32               Rodri  Defensive Midfield   25          70.0        8   \n",
      "64    65  Robert Lewandowski      Centre-Forward   33          60.0       10   \n",
      "111  112   Cristiano Ronaldo      Centre-Forward   36          45.0        7   \n",
      "118  119         Nuno Mendes           Left-Back   19          40.0       10   \n",
      "152  153          Toni Kroos    Central Midfield   31          40.0        2   \n",
      "240  241       Thomas Müller      Second Striker   32          30.0       11   \n",
      "480  481   Youssoufa Moukoko      Centre-Forward   16          18.0       10   \n",
      "\n",
      "     Goals  Own goals  Assists  Yellow cards  Yellow red cards  Red cards  \\\n",
      "0        4          0        5             2                 0          0   \n",
      "1       11          0        4             1                 0          0   \n",
      "2        6          0        0             2                 0          0   \n",
      "3        2          0        2             1                 0          0   \n",
      "4        9          0        3             1                 0          0   \n",
      "6        2          0        0             1                 0          0   \n",
      "9        0          0        2             0                 1          0   \n",
      "10       5          0        3             2                 0          0   \n",
      "13       0          0        0             0                 0          0   \n",
      "16       0          0        0             0                 0          0   \n",
      "21       1          0        0             1                 0          0   \n",
      "28       0          0        3             1                 0          0   \n",
      "31       1          0        0             2                 0          0   \n",
      "64      13          0        1             0                 0          0   \n",
      "111      5          0        0             2                 0          0   \n",
      "118      0          1        1             3                 0          0   \n",
      "152      0          0        0             0                 0          0   \n",
      "240      4          0        6             0                 0          0   \n",
      "480      3          0        1             1                 0          0   \n",
      "\n",
      "     Substitutions on  Substitutions off  Market_value    Last Name  \n",
      "0                   0                  5         160.0       Mbappé  \n",
      "1                   0                  1         150.0      Haaland  \n",
      "2                   2                  2         120.0         Kane  \n",
      "3                   1                  5         100.0     Grealish  \n",
      "4                   0                  2         100.0        Salah  \n",
      "6                   2                  2         100.0       Bruyne  \n",
      "9                   0                  1          90.0         Jong  \n",
      "10                  2                  2          90.0    Fernandes  \n",
      "13                  0                  0          85.0     Rashford  \n",
      "16                  1                  2          80.0        Pedri  \n",
      "21                  1                  1          80.0        Messi  \n",
      "28                  0                  3          70.0       Davies  \n",
      "31                  1                  1          70.0        Rodri  \n",
      "64                  0                  4          60.0  Lewandowski  \n",
      "111                 2                  1          45.0      Ronaldo  \n",
      "118                 3                  3          40.0       Mendes  \n",
      "152                 1                  1          40.0        Kroos  \n",
      "240                 0                  7          30.0       Müller  \n",
      "480                 6                  3          18.0      Moukoko  \n"
     ]
    }
   ],
   "source": [
    "print(df.drop_duplicates(subset=['Age']))"
   ]
  },
  {
   "cell_type": "markdown",
   "metadata": {},
   "source": [
    "<span style=\"color:blue\"><b>Task:</b></span> Only show the player with the lowest market value for every age."
   ]
  },
  {
   "cell_type": "code",
   "execution_count": 194,
   "metadata": {},
   "outputs": [
    {
     "name": "stdout",
     "output_type": "stream",
     "text": [
      "       #              Player            Position  Age  Market value  Matches  \\\n",
      "21    22        Lionel Messi        Right Winger   34          80.0        5   \n",
      "111  112   Cristiano Ronaldo      Centre-Forward   36          45.0        7   \n",
      "343  344        Rayan Cherki  Attacking Midfield   18          23.0       10   \n",
      "456  457               Portu        Right Winger   29          20.0        9   \n",
      "459  460      Julian Draxler         Left Winger   28          20.0        9   \n",
      "461  462          Jordi Alba           Left-Back   32          20.0        4   \n",
      "462  463      Sergio Canales  Attacking Midfield   30          20.0        8   \n",
      "464  465      Ángel Di María        Right Winger   33          20.0        6   \n",
      "465  466      Miralem Pjanic    Central Midfield   31          20.0        5   \n",
      "475  476        Noni Madueke        Right Winger   19          18.0       15   \n",
      "478  479      William Saliba         Centre-Back   20          18.0       11   \n",
      "480  481   Youssoufa Moukoko      Centre-Forward   16          18.0       10   \n",
      "483  484      Ryan Sessegnon       Left Midfield   21          18.0        3   \n",
      "488  489  Kyle Walker-Peters          Right-Back   24          18.0        6   \n",
      "491  492          Riqui Puig    Central Midfield   22          18.0        4   \n",
      "492  493             Éverton         Left Winger   25          18.0       13   \n",
      "497  498          David Raya          Goalkeeper   26          18.0        7   \n",
      "498  499        Gregor Kobel          Goalkeeper   23          18.0       12   \n",
      "499  500      Wilmar Barrios  Defensive Midfield   27          18.0       10   \n",
      "\n",
      "     Goals  Own goals  Assists  Yellow cards  Yellow red cards  Red cards  \\\n",
      "21       1          0        0             1                 0          0   \n",
      "111      5          0        0             2                 0          0   \n",
      "343      4          0        2             1                 0          0   \n",
      "456      0          0        0             1                 0          0   \n",
      "459      2          0        1             1                 0          0   \n",
      "461      0          0        1             1                 0          0   \n",
      "462      1          0        2             1                 0          0   \n",
      "464      1          0        2             1                 0          0   \n",
      "465      0          0        3             1                 0          0   \n",
      "475      6          0        1             0                 0          0   \n",
      "478      0          0        0             2                 0          0   \n",
      "480      3          0        1             1                 0          0   \n",
      "483      0          0        0             0                 0          0   \n",
      "488      1          0        1             2                 0          0   \n",
      "491      0          0        0             0                 0          0   \n",
      "492      0          0        1             1                 0          0   \n",
      "497      0          0        0             0                 0          0   \n",
      "498      0          0        0             0                 0          0   \n",
      "499      0          0        0             0                 0          0   \n",
      "\n",
      "     Substitutions on  Substitutions off  Market_value      Last Name  \n",
      "21                  1                  1          80.0          Messi  \n",
      "111                 2                  1          45.0        Ronaldo  \n",
      "343                 6                  3          23.0         Cherki  \n",
      "456                 3                  6          20.0          Portu  \n",
      "459                 5                  3          20.0        Draxler  \n",
      "461                 0                  1          20.0           Alba  \n",
      "462                 1                  5          20.0        Canales  \n",
      "464                 2                  3          20.0          María  \n",
      "465                 1                  3          20.0         Pjanic  \n",
      "475                 2                 13          18.0        Madueke  \n",
      "478                 0                  0          18.0         Saliba  \n",
      "480                 6                  3          18.0        Moukoko  \n",
      "483                 0                  3          18.0      Sessegnon  \n",
      "488                 1                  1          18.0  Walker-Peters  \n",
      "491                 4                  0          18.0           Puig  \n",
      "492                 7                  4          18.0        Éverton  \n",
      "497                 0                  0          18.0           Raya  \n",
      "498                 0                  0          18.0          Kobel  \n",
      "499                 0                  2          18.0        Barrios  \n"
     ]
    }
   ],
   "source": [
    "print(df.drop_duplicates(subset=['Age'],keep=\"last\"))"
   ]
  },
  {
   "cell_type": "markdown",
   "metadata": {},
   "source": [
    "Use ``df.sample()`` to get a random sample form your dataset:"
   ]
  },
  {
   "cell_type": "code",
   "execution_count": 202,
   "metadata": {},
   "outputs": [
    {
     "name": "stdout",
     "output_type": "stream",
     "text": [
      "       #               Player            Position  Age  Market value  Matches\n",
      "126  127         Carlos Soler    Central Midfield   24          40.0        6\n",
      "219  220          Joan Jordán    Central Midfield   27          30.0        9\n",
      "61    62              Alisson          Goalkeeper   29          60.0        9\n",
      "381  382       Berat Djimsiti         Centre-Back   28          22.0        9\n",
      "163  164  Aurélien Tchouaméni  Defensive Midfield   21          35.0       15\n"
     ]
    }
   ],
   "source": [
    "# Choose 5 players randomly from the datasset\n",
    "print(df.sample(5).iloc[:,:6])"
   ]
  },
  {
   "cell_type": "markdown",
   "metadata": {},
   "source": [
    "<span style=\"color:blue\"><b>Task:</b></span> Choose 10% of the df."
   ]
  },
  {
   "cell_type": "code",
   "execution_count": 206,
   "metadata": {},
   "outputs": [
    {
     "name": "stdout",
     "output_type": "stream",
     "text": [
      "       #                Player     Position  Age  Market value  Matches  \\\n",
      "346  347  Konstantinos Manolas  Centre-Back   30          23.0        5   \n",
      "54    55    José María Giménez  Centre-Back   26          60.0        8   \n",
      "484  485           Axel Disasi  Centre-Back   23          18.0       12   \n",
      "121  122         Wesley Fofana  Centre-Back   20          40.0        0   \n",
      "308  309       Davide Calabria   Right-Back   24          25.0        7   \n",
      "\n",
      "     Goals  Own goals  Assists  Yellow cards  Yellow red cards  Red cards  \\\n",
      "346      0          0        0             2                 0          0   \n",
      "54       0          0        0             3                 0          0   \n",
      "484      1          0        0             2                 0          0   \n",
      "121      0          0        0             0                 0          0   \n",
      "308      1          0        1             0                 0          0   \n",
      "\n",
      "     Substitutions on  Substitutions off  Market_value Last Name  \n",
      "346                 1                  0          23.0   Manolas  \n",
      "54                  0                  1          60.0   Giménez  \n",
      "484                 2                  2          18.0    Disasi  \n",
      "121                 0                  0          40.0    Fofana  \n",
      "308                 1                  1          25.0  Calabria  \n"
     ]
    }
   ],
   "source": [
    "print(df.sample(frac=0.1))\n",
    "\n",
    "print(df.sample(int(len(df)*0.01)))"
   ]
  },
  {
   "cell_type": "markdown",
   "metadata": {},
   "source": [
    "### Group by\n",
    "\n"
   ]
  },
  {
   "cell_type": "code",
   "execution_count": 207,
   "metadata": {},
   "outputs": [
    {
     "name": "stdout",
     "output_type": "stream",
     "text": [
      "                             #        Age  Market value   Matches     Goals  \\\n",
      "Position                                                                      \n",
      "Attacking Midfield  241.731707  24.365854     36.804878  7.926829  1.853659   \n",
      "Central Midfield    231.337838  25.054054     36.702703  7.351351  0.864865   \n",
      "Centre-Back         250.735632  24.839080     33.137931  7.597701  0.252874   \n",
      "Centre-Forward      235.507463  25.716418     38.194030  7.865672  3.567164   \n",
      "Defensive Midfield  258.317073  25.048780     34.292683  7.731707  0.609756   \n",
      "Goalkeeper          300.681818  26.227273     32.818182  7.909091  0.000000   \n",
      "Left Midfield       317.000000  23.142857     29.285714  7.285714  1.571429   \n",
      "Left Winger         230.404255  24.319149     40.234043  8.170213  1.680851   \n",
      "Left-Back           242.750000  25.333333     33.875000  6.333333  0.458333   \n",
      "Right Midfield      293.333333  25.333333     25.666667  4.666667  0.000000   \n",
      "Right Winger        253.434783  24.391304     34.043478  7.826087  2.043478   \n",
      "Right-Back          313.000000  24.818182     28.515152  7.212121  0.515152   \n",
      "Second Striker      210.000000  26.500000     39.750000  8.250000  2.500000   \n",
      "\n",
      "                    Own goals   Assists  Yellow cards  Yellow red cards  \\\n",
      "Position                                                                  \n",
      "Attacking Midfield   0.000000  1.292683      0.853659          0.000000   \n",
      "Central Midfield     0.013514  1.135135      0.837838          0.027027   \n",
      "Centre-Back          0.011494  0.218391      1.195402          0.034483   \n",
      "Centre-Forward       0.000000  1.358209      0.820896          0.029851   \n",
      "Defensive Midfield   0.000000  0.731707      1.463415          0.024390   \n",
      "Goalkeeper           0.000000  0.000000      0.500000          0.000000   \n",
      "Left Midfield        0.000000  1.142857      1.142857          0.000000   \n",
      "Left Winger          0.000000  1.510638      0.893617          0.021277   \n",
      "Left-Back            0.083333  0.833333      0.916667          0.041667   \n",
      "Right Midfield       0.000000  0.666667      1.333333          0.000000   \n",
      "Right Winger         0.000000  0.869565      0.847826          0.043478   \n",
      "Right-Back           0.060606  0.757576      0.969697          0.000000   \n",
      "Second Striker       0.000000  1.500000      1.125000          0.125000   \n",
      "\n",
      "                    Red cards  Substitutions on  Substitutions off  \\\n",
      "Position                                                             \n",
      "Attacking Midfield   0.024390          2.268293           3.780488   \n",
      "Central Midfield     0.013514          1.486486           2.729730   \n",
      "Centre-Back          0.022989          0.586207           0.735632   \n",
      "Centre-Forward       0.044776          1.761194           3.014925   \n",
      "Defensive Midfield   0.024390          1.365854           1.731707   \n",
      "Goalkeeper           0.000000          0.000000           0.090909   \n",
      "Left Midfield        0.000000          1.142857           3.428571   \n",
      "Left Winger          0.000000          1.957447           3.744681   \n",
      "Left-Back            0.000000          1.166667           1.625000   \n",
      "Right Midfield       0.000000          1.000000           0.666667   \n",
      "Right Winger         0.000000          2.239130           3.586957   \n",
      "Right-Back           0.090909          1.030303           1.363636   \n",
      "Second Striker       0.000000          2.125000           3.625000   \n",
      "\n",
      "                    Market_value  \n",
      "Position                          \n",
      "Attacking Midfield     36.804878  \n",
      "Central Midfield       36.702703  \n",
      "Centre-Back            33.137931  \n",
      "Centre-Forward         38.194030  \n",
      "Defensive Midfield     34.292683  \n",
      "Goalkeeper             32.818182  \n",
      "Left Midfield          29.285714  \n",
      "Left Winger            40.234043  \n",
      "Left-Back              33.875000  \n",
      "Right Midfield         25.666667  \n",
      "Right Winger           34.043478  \n",
      "Right-Back             28.515152  \n",
      "Second Striker         39.750000  \n"
     ]
    },
    {
     "name": "stderr",
     "output_type": "stream",
     "text": [
      "<ipython-input-207-bc6787cb8a63>:1: FutureWarning: The default value of numeric_only in DataFrameGroupBy.mean is deprecated. In a future version, numeric_only will default to False. Either specify numeric_only or select only columns which should be valid for the function.\n",
      "  print(df.groupby(['Position']).mean())\n"
     ]
    }
   ],
   "source": [
    "print(df.groupby(['Position']).mean())"
   ]
  },
  {
   "cell_type": "code",
   "execution_count": null,
   "outputs": [],
   "source": [
    "<span style=\"color:blue\"><b>Task:</b></span> Show the mean market value for each position for each age."
   ],
   "metadata": {
    "collapsed": false
   }
  },
  {
   "cell_type": "code",
   "execution_count": 210,
   "metadata": {},
   "outputs": [
    {
     "name": "stdout",
     "output_type": "stream",
     "text": [
      "Position            Age\n",
      "Attacking Midfield  18     45.000000\n",
      "                    20     20.000000\n",
      "                    21     22.666667\n",
      "                    22     51.750000\n",
      "                    23     34.250000\n",
      "                             ...    \n",
      "Second Striker      22     20.000000\n",
      "                    23     25.000000\n",
      "                    27     40.000000\n",
      "                    30     41.500000\n",
      "                    32     30.000000\n",
      "Name: Market value, Length: 138, dtype: float64\n",
      "Position            Age\n",
      "Attacking Midfield  18     45.000000\n",
      "                    20     20.000000\n",
      "                    21     22.666667\n",
      "                    22     51.750000\n",
      "                    23     34.250000\n",
      "                             ...    \n",
      "Second Striker      22     20.000000\n",
      "                    23     25.000000\n",
      "                    27     40.000000\n",
      "                    30     41.500000\n",
      "                    32     30.000000\n",
      "Name: Market value, Length: 138, dtype: float64\n"
     ]
    },
    {
     "name": "stderr",
     "output_type": "stream",
     "text": [
      "<ipython-input-210-fa03719d83e8>:2: FutureWarning: The default value of numeric_only in DataFrameGroupBy.mean is deprecated. In a future version, numeric_only will default to False. Either specify numeric_only or select only columns which should be valid for the function.\n",
      "  print(df.groupby(['Position','Age']).mean()['Market value'])\n"
     ]
    }
   ],
   "source": [
    "print(df.groupby(['Position','Age'])['Market value'].mean())\n",
    "print(df.groupby(['Position','Age']).mean()['Market value'])"
   ]
  },
  {
   "cell_type": "code",
   "execution_count": null,
   "outputs": [],
   "source": [
    "<span style=\"color:blue\"><b>Task:</b></span> Add a new column to the df with the mean market value respective to the position (Use a list comprehension)"
   ],
   "metadata": {
    "collapsed": false
   }
  },
  {
   "cell_type": "code",
   "execution_count": 214,
   "metadata": {},
   "outputs": [
    {
     "name": "stdout",
     "output_type": "stream",
     "text": [
      "Position\n",
      "Attacking Midfield    36.804878\n",
      "Central Midfield      36.702703\n",
      "Centre-Back           33.137931\n",
      "Centre-Forward        38.194030\n",
      "Defensive Midfield    34.292683\n",
      "Goalkeeper            32.818182\n",
      "Left Midfield         29.285714\n",
      "Left Winger           40.234043\n",
      "Left-Back             33.875000\n",
      "Right Midfield        25.666667\n",
      "Right Winger          34.043478\n",
      "Right-Back            28.515152\n",
      "Second Striker        39.750000\n",
      "Name: Market value, dtype: float64\n",
      "0      38.194030\n",
      "1      38.194030\n",
      "2      38.194030\n",
      "3      40.234043\n",
      "4      34.043478\n",
      "         ...    \n",
      "495    36.702703\n",
      "496    28.515152\n",
      "497    32.818182\n",
      "498    32.818182\n",
      "499    34.292683\n",
      "Name: Position mean, Length: 500, dtype: float64\n"
     ]
    },
    {
     "name": "stderr",
     "output_type": "stream",
     "text": [
      "<ipython-input-214-0b33374e6f58>:1: FutureWarning: The default value of numeric_only in DataFrameGroupBy.mean is deprecated. In a future version, numeric_only will default to False. Either specify numeric_only or select only columns which should be valid for the function.\n",
      "  df_helper=df.groupby(['Position']).mean()['Market value']\n"
     ]
    }
   ],
   "source": [
    "df_helper=df.groupby(['Position']).mean()['Market value']\n",
    "print(df_helper)\n",
    "df['Position mean']=[df_helper[position] for position in df['Position']] \n",
    "\n",
    "print(df['Position mean'])"
   ]
  },
  {
   "cell_type": "markdown",
   "metadata": {},
   "source": [
    "<span style=\"color:blue\"><b>Task:</b></span> Apply Position Fixed Effects"
   ]
  },
  {
   "cell_type": "code",
   "execution_count": 217,
   "metadata": {},
   "outputs": [
    {
     "name": "stdout",
     "output_type": "stream",
     "text": [
      "0      121.805970\n",
      "1      111.805970\n",
      "2       81.805970\n",
      "3       59.765957\n",
      "4       65.956522\n",
      "          ...    \n",
      "495    -18.702703\n",
      "496    -10.515152\n",
      "497    -14.818182\n",
      "498    -14.818182\n",
      "499    -16.292683\n",
      "Name: MV_FE, Length: 500, dtype: float64\n",
      "0.9744711626924575\n"
     ]
    }
   ],
   "source": [
    "df['MV_FE']=df['Market value']- df['Position mean']\n",
    "print(df['MV_FE'])\n",
    "\n",
    "print(df['MV_FE'].var()/df['Market value'].var())"
   ]
  },
  {
   "cell_type": "code",
   "execution_count": null,
   "metadata": {},
   "outputs": [],
   "source": []
  }
 ],
 "metadata": {
  "kernelspec": {
   "display_name": "Python 3 (ipykernel)",
   "language": "python",
   "name": "python3"
  },
  "language_info": {
   "codemirror_mode": {
    "name": "ipython",
    "version": 3
   },
   "file_extension": ".py",
   "mimetype": "text/x-python",
   "name": "python",
   "nbconvert_exporter": "python",
   "pygments_lexer": "ipython3",
   "version": "3.9.13"
  }
 },
 "nbformat": 4,
 "nbformat_minor": 1
}
